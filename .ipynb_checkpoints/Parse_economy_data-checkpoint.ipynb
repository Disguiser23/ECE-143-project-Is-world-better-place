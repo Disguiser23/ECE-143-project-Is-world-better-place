{
 "cells": [
  {
   "cell_type": "code",
   "execution_count": 5,
   "metadata": {},
   "outputs": [],
   "source": [
    "import pandas as pd\n",
    "import numpy as np"
   ]
  },
  {
   "cell_type": "markdown",
   "metadata": {},
   "source": [
    "### Original data"
   ]
  },
  {
   "cell_type": "code",
   "execution_count": 10,
   "metadata": {},
   "outputs": [
    {
     "data": {
      "text/html": [
       "<div>\n",
       "<style scoped>\n",
       "    .dataframe tbody tr th:only-of-type {\n",
       "        vertical-align: middle;\n",
       "    }\n",
       "\n",
       "    .dataframe tbody tr th {\n",
       "        vertical-align: top;\n",
       "    }\n",
       "\n",
       "    .dataframe thead th {\n",
       "        text-align: right;\n",
       "    }\n",
       "</style>\n",
       "<table border=\"1\" class=\"dataframe\">\n",
       "  <thead>\n",
       "    <tr style=\"text-align: right;\">\n",
       "      <th></th>\n",
       "      <th>Country or Area</th>\n",
       "      <th>Year</th>\n",
       "      <th>Item</th>\n",
       "      <th>Value</th>\n",
       "    </tr>\n",
       "  </thead>\n",
       "  <tbody>\n",
       "    <tr>\n",
       "      <th>0</th>\n",
       "      <td>Afghanistan</td>\n",
       "      <td>2018</td>\n",
       "      <td>Gross Domestic Product (GDP)</td>\n",
       "      <td>2.051388e+10</td>\n",
       "    </tr>\n",
       "    <tr>\n",
       "      <th>1</th>\n",
       "      <td>Afghanistan</td>\n",
       "      <td>2017</td>\n",
       "      <td>Gross Domestic Product (GDP)</td>\n",
       "      <td>2.151550e+10</td>\n",
       "    </tr>\n",
       "    <tr>\n",
       "      <th>2</th>\n",
       "      <td>Afghanistan</td>\n",
       "      <td>2016</td>\n",
       "      <td>Gross Domestic Product (GDP)</td>\n",
       "      <td>2.023507e+10</td>\n",
       "    </tr>\n",
       "    <tr>\n",
       "      <th>3</th>\n",
       "      <td>Afghanistan</td>\n",
       "      <td>2015</td>\n",
       "      <td>Gross Domestic Product (GDP)</td>\n",
       "      <td>2.060809e+10</td>\n",
       "    </tr>\n",
       "    <tr>\n",
       "      <th>4</th>\n",
       "      <td>Afghanistan</td>\n",
       "      <td>2014</td>\n",
       "      <td>Gross Domestic Product (GDP)</td>\n",
       "      <td>2.133066e+10</td>\n",
       "    </tr>\n",
       "    <tr>\n",
       "      <th>...</th>\n",
       "      <td>...</td>\n",
       "      <td>...</td>\n",
       "      <td>...</td>\n",
       "      <td>...</td>\n",
       "    </tr>\n",
       "    <tr>\n",
       "      <th>9865</th>\n",
       "      <td>Zimbabwe</td>\n",
       "      <td>1974</td>\n",
       "      <td>Gross Domestic Product (GDP)</td>\n",
       "      <td>4.938099e+09</td>\n",
       "    </tr>\n",
       "    <tr>\n",
       "      <th>9866</th>\n",
       "      <td>Zimbabwe</td>\n",
       "      <td>1973</td>\n",
       "      <td>Gross Domestic Product (GDP)</td>\n",
       "      <td>4.103781e+09</td>\n",
       "    </tr>\n",
       "    <tr>\n",
       "      <th>9867</th>\n",
       "      <td>Zimbabwe</td>\n",
       "      <td>1972</td>\n",
       "      <td>Gross Domestic Product (GDP)</td>\n",
       "      <td>3.336472e+09</td>\n",
       "    </tr>\n",
       "    <tr>\n",
       "      <th>9868</th>\n",
       "      <td>Zimbabwe</td>\n",
       "      <td>1971</td>\n",
       "      <td>Gross Domestic Product (GDP)</td>\n",
       "      <td>2.701725e+09</td>\n",
       "    </tr>\n",
       "    <tr>\n",
       "      <th>9869</th>\n",
       "      <td>Zimbabwe</td>\n",
       "      <td>1970</td>\n",
       "      <td>Gross Domestic Product (GDP)</td>\n",
       "      <td>2.336518e+09</td>\n",
       "    </tr>\n",
       "  </tbody>\n",
       "</table>\n",
       "<p>9870 rows × 4 columns</p>\n",
       "</div>"
      ],
      "text/plain": [
       "     Country or Area  Year                          Item         Value\n",
       "0        Afghanistan  2018  Gross Domestic Product (GDP)  2.051388e+10\n",
       "1        Afghanistan  2017  Gross Domestic Product (GDP)  2.151550e+10\n",
       "2        Afghanistan  2016  Gross Domestic Product (GDP)  2.023507e+10\n",
       "3        Afghanistan  2015  Gross Domestic Product (GDP)  2.060809e+10\n",
       "4        Afghanistan  2014  Gross Domestic Product (GDP)  2.133066e+10\n",
       "...              ...   ...                           ...           ...\n",
       "9865        Zimbabwe  1974  Gross Domestic Product (GDP)  4.938099e+09\n",
       "9866        Zimbabwe  1973  Gross Domestic Product (GDP)  4.103781e+09\n",
       "9867        Zimbabwe  1972  Gross Domestic Product (GDP)  3.336472e+09\n",
       "9868        Zimbabwe  1971  Gross Domestic Product (GDP)  2.701725e+09\n",
       "9869        Zimbabwe  1970  Gross Domestic Product (GDP)  2.336518e+09\n",
       "\n",
       "[9870 rows x 4 columns]"
      ]
     },
     "execution_count": 10,
     "metadata": {},
     "output_type": "execute_result"
    }
   ],
   "source": [
    "df = pd.read_csv('./data/economy/UNdata_GDP.csv')\n",
    "df"
   ]
  },
  {
   "cell_type": "markdown",
   "metadata": {},
   "source": [
    "### Cleaned Data\n",
    "index: Country Names (str)\n",
    "\n",
    "columns: year of data (int)"
   ]
  },
  {
   "cell_type": "code",
   "execution_count": 15,
   "metadata": {
    "scrolled": false
   },
   "outputs": [
    {
     "name": "stdout",
     "output_type": "stream",
     "text": [
      "Index(['Afghanistan', 'Albania', 'Algeria', 'Andorra', 'Angola', 'Anguilla',\n",
      "       'Antigua and Barbuda', 'Argentina', 'Armenia', 'Aruba',\n",
      "       ...\n",
      "       'Uruguay', 'Uzbekistan', 'Vanuatu',\n",
      "       'Venezuela (Bolivarian Republic of)', 'Viet Nam', 'Yemen',\n",
      "       'Yemen: Former Democratic Yemen', 'Yemen: Former Yemen Arab Republic',\n",
      "       'Zambia', 'Zimbabwe'],\n",
      "      dtype='object', length=220)\n"
     ]
    }
   ],
   "source": [
    "# read csv as DataFrame data structure\n",
    "df = pd.read_csv('./data/economy/UNdata_GDP.csv')\n",
    "\n",
    "# countries: an 1D np array of all the countries (str)\n",
    "countries = df['Country or Area'].drop_duplicates().values\n",
    "\n",
    "# years: an 1D np array of all the years (int)\n",
    "years = np.flip(df['Year'].drop_duplicates().values)\n",
    "\n",
    "# GDP: an 1D np array of GDP values (int) of each countries each year\n",
    "GDP = df['Value'].values\n",
    "\n",
    "# n_countries, n_years are the # of countries and years\n",
    "n_co = countries.shape[0]\n",
    "n_yr = years.shape[0]\n",
    "\n",
    "# create a DataFrame with all values as nan\n",
    "dummy = np.zeros([n_co, n_yr])\n",
    "dummy = np.nan\n",
    "newdf = pd.DataFrame(dummy, index = countries, columns=years)\n",
    "\n",
    "# assigning the correct GDP values to the DF\n",
    "for i in range(0, GDP.shape[0]):\n",
    "    i_year = df['Year'].values[i]\n",
    "    i_country = df['Country or Area'].values[i]\n",
    "    newdf[i_year][i_country] = GDP[i]\n",
    "    \n",
    "print(newdf.index)\n",
    "\n",
    "newdf.to_csv('./data/economy/cleaned_data/cleanedGDP.csv', index = True)\n",
    "\n",
    "\n",
    "\n"
   ]
  },
  {
   "cell_type": "code",
   "execution_count": null,
   "metadata": {},
   "outputs": [],
   "source": []
  },
  {
   "cell_type": "code",
   "execution_count": 4,
   "metadata": {},
   "outputs": [],
   "source": []
  },
  {
   "cell_type": "code",
   "execution_count": null,
   "metadata": {},
   "outputs": [],
   "source": []
  }
 ],
 "metadata": {
  "kernelspec": {
   "display_name": "Python 3",
   "language": "python",
   "name": "python3"
  },
  "language_info": {
   "codemirror_mode": {
    "name": "ipython",
    "version": 3
   },
   "file_extension": ".py",
   "mimetype": "text/x-python",
   "name": "python",
   "nbconvert_exporter": "python",
   "pygments_lexer": "ipython3",
   "version": "3.7.4"
  }
 },
 "nbformat": 4,
 "nbformat_minor": 4
}
