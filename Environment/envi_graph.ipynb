{
 "cells": [
  {
   "cell_type": "code",
   "execution_count": 1,
   "metadata": {},
   "outputs": [],
   "source": [
    "import pandas as pd\n",
    "import numpy as np\n",
    "import plotly.express as px"
   ]
  },
  {
   "cell_type": "code",
   "execution_count": 2,
   "metadata": {},
   "outputs": [
    {
     "output_type": "display_data",
     "data": {
      "application/vnd.plotly.v1+json": {
       "config": {
        "plotlyServerURL": "https://plot.ly"
       },
       "data": [
        {
         "hovertemplate": "Year=%{x}<br>Number of disasters (EMDAT (2020))=%{y}<extra></extra>",
         "legendgroup": "",
         "line": {
          "color": "#636efa",
          "dash": "solid",
          "shape": "spline"
         },
         "mode": "lines",
         "name": "",
         "orientation": "v",
         "showlegend": false,
         "type": "scatter",
         "x": [
          1900,
          1901,
          1902,
          1903,
          1904,
          1905,
          1906,
          1907,
          1908,
          1909,
          1910,
          1911,
          1912,
          1913,
          1914,
          1915,
          1916,
          1917,
          1918,
          1919,
          1920,
          1921,
          1922,
          1923,
          1924,
          1925,
          1926,
          1927,
          1928,
          1929,
          1930,
          1931,
          1932,
          1933,
          1934,
          1935,
          1936,
          1937,
          1938,
          1939,
          1940,
          1941,
          1942,
          1943,
          1944,
          1945,
          1946,
          1947,
          1948,
          1949,
          1950,
          1951,
          1952,
          1953,
          1954,
          1955,
          1956,
          1957,
          1958,
          1959,
          1960,
          1961,
          1962,
          1963,
          1964,
          1965,
          1966,
          1967,
          1968,
          1969,
          1970,
          1971,
          1972,
          1973,
          1974,
          1975,
          1976,
          1977,
          1978,
          1979,
          1980,
          1981,
          1982,
          1983,
          1984,
          1985,
          1986,
          1987,
          1988,
          1989,
          1990,
          1991,
          1992,
          1993,
          1994,
          1995,
          1996,
          1997,
          1998,
          1999,
          2000,
          2001,
          2002,
          2003,
          2004,
          2005,
          2006,
          2007,
          2008,
          2009,
          2010,
          2011,
          2012,
          2013,
          2014,
          2015,
          2016,
          2017,
          2018,
          2019
         ],
         "xaxis": "x",
         "y": [
          5,
          2,
          9,
          8,
          2,
          4,
          17,
          5,
          4,
          11,
          15,
          5,
          7,
          5,
          6,
          7,
          2,
          6,
          7,
          4,
          7,
          2,
          6,
          12,
          4,
          6,
          15,
          12,
          17,
          6,
          14,
          12,
          8,
          10,
          9,
          11,
          11,
          7,
          7,
          11,
          17,
          5,
          9,
          12,
          12,
          12,
          15,
          12,
          23,
          20,
          23,
          27,
          24,
          34,
          33,
          30,
          36,
          29,
          23,
          33,
          40,
          28,
          28,
          41,
          60,
          61,
          80,
          70,
          77,
          62,
          77,
          61,
          63,
          60,
          68,
          63,
          91,
          121,
          115,
          120,
          133,
          138,
          153,
          205,
          146,
          165,
          150,
          191,
          200,
          172,
          278,
          228,
          204,
          260,
          246,
          248,
          227,
          261,
          288,
          337,
          411,
          376,
          421,
          360,
          350,
          432,
          401,
          414,
          352,
          344,
          393,
          334,
          346,
          332,
          320,
          380,
          325,
          276,
          282,
          361
         ],
         "yaxis": "y"
        }
       ],
       "layout": {
        "legend": {
         "tracegroupgap": 0
        },
        "margin": {
         "t": 60
        },
        "template": {
         "data": {
          "bar": [
           {
            "error_x": {
             "color": "#2a3f5f"
            },
            "error_y": {
             "color": "#2a3f5f"
            },
            "marker": {
             "line": {
              "color": "#E5ECF6",
              "width": 0.5
             }
            },
            "type": "bar"
           }
          ],
          "barpolar": [
           {
            "marker": {
             "line": {
              "color": "#E5ECF6",
              "width": 0.5
             }
            },
            "type": "barpolar"
           }
          ],
          "carpet": [
           {
            "aaxis": {
             "endlinecolor": "#2a3f5f",
             "gridcolor": "white",
             "linecolor": "white",
             "minorgridcolor": "white",
             "startlinecolor": "#2a3f5f"
            },
            "baxis": {
             "endlinecolor": "#2a3f5f",
             "gridcolor": "white",
             "linecolor": "white",
             "minorgridcolor": "white",
             "startlinecolor": "#2a3f5f"
            },
            "type": "carpet"
           }
          ],
          "choropleth": [
           {
            "colorbar": {
             "outlinewidth": 0,
             "ticks": ""
            },
            "type": "choropleth"
           }
          ],
          "contour": [
           {
            "colorbar": {
             "outlinewidth": 0,
             "ticks": ""
            },
            "colorscale": [
             [
              0,
              "#0d0887"
             ],
             [
              0.1111111111111111,
              "#46039f"
             ],
             [
              0.2222222222222222,
              "#7201a8"
             ],
             [
              0.3333333333333333,
              "#9c179e"
             ],
             [
              0.4444444444444444,
              "#bd3786"
             ],
             [
              0.5555555555555556,
              "#d8576b"
             ],
             [
              0.6666666666666666,
              "#ed7953"
             ],
             [
              0.7777777777777778,
              "#fb9f3a"
             ],
             [
              0.8888888888888888,
              "#fdca26"
             ],
             [
              1,
              "#f0f921"
             ]
            ],
            "type": "contour"
           }
          ],
          "contourcarpet": [
           {
            "colorbar": {
             "outlinewidth": 0,
             "ticks": ""
            },
            "type": "contourcarpet"
           }
          ],
          "heatmap": [
           {
            "colorbar": {
             "outlinewidth": 0,
             "ticks": ""
            },
            "colorscale": [
             [
              0,
              "#0d0887"
             ],
             [
              0.1111111111111111,
              "#46039f"
             ],
             [
              0.2222222222222222,
              "#7201a8"
             ],
             [
              0.3333333333333333,
              "#9c179e"
             ],
             [
              0.4444444444444444,
              "#bd3786"
             ],
             [
              0.5555555555555556,
              "#d8576b"
             ],
             [
              0.6666666666666666,
              "#ed7953"
             ],
             [
              0.7777777777777778,
              "#fb9f3a"
             ],
             [
              0.8888888888888888,
              "#fdca26"
             ],
             [
              1,
              "#f0f921"
             ]
            ],
            "type": "heatmap"
           }
          ],
          "heatmapgl": [
           {
            "colorbar": {
             "outlinewidth": 0,
             "ticks": ""
            },
            "colorscale": [
             [
              0,
              "#0d0887"
             ],
             [
              0.1111111111111111,
              "#46039f"
             ],
             [
              0.2222222222222222,
              "#7201a8"
             ],
             [
              0.3333333333333333,
              "#9c179e"
             ],
             [
              0.4444444444444444,
              "#bd3786"
             ],
             [
              0.5555555555555556,
              "#d8576b"
             ],
             [
              0.6666666666666666,
              "#ed7953"
             ],
             [
              0.7777777777777778,
              "#fb9f3a"
             ],
             [
              0.8888888888888888,
              "#fdca26"
             ],
             [
              1,
              "#f0f921"
             ]
            ],
            "type": "heatmapgl"
           }
          ],
          "histogram": [
           {
            "marker": {
             "colorbar": {
              "outlinewidth": 0,
              "ticks": ""
             }
            },
            "type": "histogram"
           }
          ],
          "histogram2d": [
           {
            "colorbar": {
             "outlinewidth": 0,
             "ticks": ""
            },
            "colorscale": [
             [
              0,
              "#0d0887"
             ],
             [
              0.1111111111111111,
              "#46039f"
             ],
             [
              0.2222222222222222,
              "#7201a8"
             ],
             [
              0.3333333333333333,
              "#9c179e"
             ],
             [
              0.4444444444444444,
              "#bd3786"
             ],
             [
              0.5555555555555556,
              "#d8576b"
             ],
             [
              0.6666666666666666,
              "#ed7953"
             ],
             [
              0.7777777777777778,
              "#fb9f3a"
             ],
             [
              0.8888888888888888,
              "#fdca26"
             ],
             [
              1,
              "#f0f921"
             ]
            ],
            "type": "histogram2d"
           }
          ],
          "histogram2dcontour": [
           {
            "colorbar": {
             "outlinewidth": 0,
             "ticks": ""
            },
            "colorscale": [
             [
              0,
              "#0d0887"
             ],
             [
              0.1111111111111111,
              "#46039f"
             ],
             [
              0.2222222222222222,
              "#7201a8"
             ],
             [
              0.3333333333333333,
              "#9c179e"
             ],
             [
              0.4444444444444444,
              "#bd3786"
             ],
             [
              0.5555555555555556,
              "#d8576b"
             ],
             [
              0.6666666666666666,
              "#ed7953"
             ],
             [
              0.7777777777777778,
              "#fb9f3a"
             ],
             [
              0.8888888888888888,
              "#fdca26"
             ],
             [
              1,
              "#f0f921"
             ]
            ],
            "type": "histogram2dcontour"
           }
          ],
          "mesh3d": [
           {
            "colorbar": {
             "outlinewidth": 0,
             "ticks": ""
            },
            "type": "mesh3d"
           }
          ],
          "parcoords": [
           {
            "line": {
             "colorbar": {
              "outlinewidth": 0,
              "ticks": ""
             }
            },
            "type": "parcoords"
           }
          ],
          "pie": [
           {
            "automargin": true,
            "type": "pie"
           }
          ],
          "scatter": [
           {
            "marker": {
             "colorbar": {
              "outlinewidth": 0,
              "ticks": ""
             }
            },
            "type": "scatter"
           }
          ],
          "scatter3d": [
           {
            "line": {
             "colorbar": {
              "outlinewidth": 0,
              "ticks": ""
             }
            },
            "marker": {
             "colorbar": {
              "outlinewidth": 0,
              "ticks": ""
             }
            },
            "type": "scatter3d"
           }
          ],
          "scattercarpet": [
           {
            "marker": {
             "colorbar": {
              "outlinewidth": 0,
              "ticks": ""
             }
            },
            "type": "scattercarpet"
           }
          ],
          "scattergeo": [
           {
            "marker": {
             "colorbar": {
              "outlinewidth": 0,
              "ticks": ""
             }
            },
            "type": "scattergeo"
           }
          ],
          "scattergl": [
           {
            "marker": {
             "colorbar": {
              "outlinewidth": 0,
              "ticks": ""
             }
            },
            "type": "scattergl"
           }
          ],
          "scattermapbox": [
           {
            "marker": {
             "colorbar": {
              "outlinewidth": 0,
              "ticks": ""
             }
            },
            "type": "scattermapbox"
           }
          ],
          "scatterpolar": [
           {
            "marker": {
             "colorbar": {
              "outlinewidth": 0,
              "ticks": ""
             }
            },
            "type": "scatterpolar"
           }
          ],
          "scatterpolargl": [
           {
            "marker": {
             "colorbar": {
              "outlinewidth": 0,
              "ticks": ""
             }
            },
            "type": "scatterpolargl"
           }
          ],
          "scatterternary": [
           {
            "marker": {
             "colorbar": {
              "outlinewidth": 0,
              "ticks": ""
             }
            },
            "type": "scatterternary"
           }
          ],
          "surface": [
           {
            "colorbar": {
             "outlinewidth": 0,
             "ticks": ""
            },
            "colorscale": [
             [
              0,
              "#0d0887"
             ],
             [
              0.1111111111111111,
              "#46039f"
             ],
             [
              0.2222222222222222,
              "#7201a8"
             ],
             [
              0.3333333333333333,
              "#9c179e"
             ],
             [
              0.4444444444444444,
              "#bd3786"
             ],
             [
              0.5555555555555556,
              "#d8576b"
             ],
             [
              0.6666666666666666,
              "#ed7953"
             ],
             [
              0.7777777777777778,
              "#fb9f3a"
             ],
             [
              0.8888888888888888,
              "#fdca26"
             ],
             [
              1,
              "#f0f921"
             ]
            ],
            "type": "surface"
           }
          ],
          "table": [
           {
            "cells": {
             "fill": {
              "color": "#EBF0F8"
             },
             "line": {
              "color": "white"
             }
            },
            "header": {
             "fill": {
              "color": "#C8D4E3"
             },
             "line": {
              "color": "white"
             }
            },
            "type": "table"
           }
          ]
         },
         "layout": {
          "annotationdefaults": {
           "arrowcolor": "#2a3f5f",
           "arrowhead": 0,
           "arrowwidth": 1
          },
          "coloraxis": {
           "colorbar": {
            "outlinewidth": 0,
            "ticks": ""
           }
          },
          "colorscale": {
           "diverging": [
            [
             0,
             "#8e0152"
            ],
            [
             0.1,
             "#c51b7d"
            ],
            [
             0.2,
             "#de77ae"
            ],
            [
             0.3,
             "#f1b6da"
            ],
            [
             0.4,
             "#fde0ef"
            ],
            [
             0.5,
             "#f7f7f7"
            ],
            [
             0.6,
             "#e6f5d0"
            ],
            [
             0.7,
             "#b8e186"
            ],
            [
             0.8,
             "#7fbc41"
            ],
            [
             0.9,
             "#4d9221"
            ],
            [
             1,
             "#276419"
            ]
           ],
           "sequential": [
            [
             0,
             "#0d0887"
            ],
            [
             0.1111111111111111,
             "#46039f"
            ],
            [
             0.2222222222222222,
             "#7201a8"
            ],
            [
             0.3333333333333333,
             "#9c179e"
            ],
            [
             0.4444444444444444,
             "#bd3786"
            ],
            [
             0.5555555555555556,
             "#d8576b"
            ],
            [
             0.6666666666666666,
             "#ed7953"
            ],
            [
             0.7777777777777778,
             "#fb9f3a"
            ],
            [
             0.8888888888888888,
             "#fdca26"
            ],
            [
             1,
             "#f0f921"
            ]
           ],
           "sequentialminus": [
            [
             0,
             "#0d0887"
            ],
            [
             0.1111111111111111,
             "#46039f"
            ],
            [
             0.2222222222222222,
             "#7201a8"
            ],
            [
             0.3333333333333333,
             "#9c179e"
            ],
            [
             0.4444444444444444,
             "#bd3786"
            ],
            [
             0.5555555555555556,
             "#d8576b"
            ],
            [
             0.6666666666666666,
             "#ed7953"
            ],
            [
             0.7777777777777778,
             "#fb9f3a"
            ],
            [
             0.8888888888888888,
             "#fdca26"
            ],
            [
             1,
             "#f0f921"
            ]
           ]
          },
          "colorway": [
           "#636efa",
           "#EF553B",
           "#00cc96",
           "#ab63fa",
           "#FFA15A",
           "#19d3f3",
           "#FF6692",
           "#B6E880",
           "#FF97FF",
           "#FECB52"
          ],
          "font": {
           "color": "#2a3f5f"
          },
          "geo": {
           "bgcolor": "white",
           "lakecolor": "white",
           "landcolor": "#E5ECF6",
           "showlakes": true,
           "showland": true,
           "subunitcolor": "white"
          },
          "hoverlabel": {
           "align": "left"
          },
          "hovermode": "closest",
          "mapbox": {
           "style": "light"
          },
          "paper_bgcolor": "white",
          "plot_bgcolor": "#E5ECF6",
          "polar": {
           "angularaxis": {
            "gridcolor": "white",
            "linecolor": "white",
            "ticks": ""
           },
           "bgcolor": "#E5ECF6",
           "radialaxis": {
            "gridcolor": "white",
            "linecolor": "white",
            "ticks": ""
           }
          },
          "scene": {
           "xaxis": {
            "backgroundcolor": "#E5ECF6",
            "gridcolor": "white",
            "gridwidth": 2,
            "linecolor": "white",
            "showbackground": true,
            "ticks": "",
            "zerolinecolor": "white"
           },
           "yaxis": {
            "backgroundcolor": "#E5ECF6",
            "gridcolor": "white",
            "gridwidth": 2,
            "linecolor": "white",
            "showbackground": true,
            "ticks": "",
            "zerolinecolor": "white"
           },
           "zaxis": {
            "backgroundcolor": "#E5ECF6",
            "gridcolor": "white",
            "gridwidth": 2,
            "linecolor": "white",
            "showbackground": true,
            "ticks": "",
            "zerolinecolor": "white"
           }
          },
          "shapedefaults": {
           "line": {
            "color": "#2a3f5f"
           }
          },
          "ternary": {
           "aaxis": {
            "gridcolor": "white",
            "linecolor": "white",
            "ticks": ""
           },
           "baxis": {
            "gridcolor": "white",
            "linecolor": "white",
            "ticks": ""
           },
           "bgcolor": "#E5ECF6",
           "caxis": {
            "gridcolor": "white",
            "linecolor": "white",
            "ticks": ""
           }
          },
          "title": {
           "x": 0.05
          },
          "xaxis": {
           "automargin": true,
           "gridcolor": "white",
           "linecolor": "white",
           "ticks": "",
           "title": {
            "standoff": 15
           },
           "zerolinecolor": "white",
           "zerolinewidth": 2
          },
          "yaxis": {
           "automargin": true,
           "gridcolor": "white",
           "linecolor": "white",
           "ticks": "",
           "title": {
            "standoff": 15
           },
           "zerolinecolor": "white",
           "zerolinewidth": 2
          }
         }
        },
        "title": {
         "text": "Total Number of Natural Disasters"
        },
        "xaxis": {
         "anchor": "y",
         "domain": [
          0,
          1
         ],
         "title": {
          "text": "Year"
         }
        },
        "yaxis": {
         "anchor": "x",
         "domain": [
          0,
          1
         ],
         "title": {
          "text": "Number of disasters (EMDAT (2020))"
         }
        }
       }
      }
     },
     "metadata": {}
    }
   ],
   "source": [
    "from read_disaster import fig_total_natural_disaster\n",
    "fig = fig_total_natural_disaster()\n",
    "fig.show()"
   ]
  },
  {
   "cell_type": "code",
   "execution_count": 3,
   "metadata": {},
   "outputs": [
    {
     "output_type": "display_data",
     "data": {
      "application/vnd.plotly.v1+json": {
       "config": {
        "plotlyServerURL": "https://plot.ly"
       },
       "data": [
        {
         "hovertemplate": "<b>%{hovertext}</b><br><br>Type=Drought<br>Year=%{x}<br>Number of disasters (EMDAT (2020))=%{y}<extra></extra>",
         "hovertext": [
          "Drought",
          "Drought",
          "Drought",
          "Drought",
          "Drought",
          "Drought",
          "Drought",
          "Drought",
          "Drought",
          "Drought",
          "Drought",
          "Drought",
          "Drought",
          "Drought",
          "Drought",
          "Drought",
          "Drought",
          "Drought",
          "Drought",
          "Drought",
          "Drought",
          "Drought",
          "Drought",
          "Drought",
          "Drought",
          "Drought",
          "Drought",
          "Drought",
          "Drought",
          "Drought",
          "Drought",
          "Drought",
          "Drought",
          "Drought",
          "Drought",
          "Drought",
          "Drought",
          "Drought",
          "Drought",
          "Drought",
          "Drought",
          "Drought",
          "Drought",
          "Drought",
          "Drought",
          "Drought",
          "Drought",
          "Drought",
          "Drought",
          "Drought",
          "Drought",
          "Drought",
          "Drought",
          "Drought",
          "Drought",
          "Drought",
          "Drought",
          "Drought",
          "Drought",
          "Drought",
          "Drought",
          "Drought",
          "Drought",
          "Drought",
          "Drought",
          "Drought",
          "Drought",
          "Drought",
          "Drought",
          "Drought",
          "Drought",
          "Drought",
          "Drought",
          "Drought"
         ],
         "legendgroup": "Drought",
         "line": {
          "color": "#636efa",
          "dash": "solid",
          "shape": "spline"
         },
         "mode": "lines",
         "name": "Drought",
         "orientation": "v",
         "showlegend": true,
         "type": "scatter",
         "x": [
          1900,
          1903,
          1906,
          1910,
          1919,
          1920,
          1921,
          1928,
          1931,
          1933,
          1940,
          1942,
          1943,
          1946,
          1947,
          1960,
          1961,
          1963,
          1964,
          1965,
          1966,
          1967,
          1968,
          1969,
          1970,
          1971,
          1972,
          1973,
          1974,
          1975,
          1976,
          1977,
          1978,
          1979,
          1980,
          1981,
          1982,
          1983,
          1984,
          1985,
          1986,
          1987,
          1988,
          1989,
          1990,
          1991,
          1992,
          1993,
          1994,
          1995,
          1996,
          1997,
          1998,
          1999,
          2000,
          2001,
          2002,
          2003,
          2004,
          2005,
          2006,
          2007,
          2008,
          2009,
          2010,
          2011,
          2012,
          2013,
          2014,
          2015,
          2016,
          2017,
          2018,
          2019
         ],
         "xaxis": "x",
         "y": [
          2,
          1,
          1,
          9,
          1,
          2,
          1,
          1,
          1,
          1,
          9,
          1,
          1,
          1,
          1,
          1,
          1,
          1,
          7,
          7,
          9,
          5,
          7,
          10,
          2,
          7,
          7,
          2,
          4,
          1,
          6,
          16,
          9,
          11,
          14,
          13,
          13,
          32,
          8,
          3,
          4,
          15,
          17,
          7,
          12,
          18,
          12,
          9,
          13,
          6,
          6,
          18,
          20,
          23,
          27,
          22,
          25,
          14,
          11,
          20,
          9,
          11,
          16,
          18,
          17,
          17,
          21,
          9,
          18,
          28,
          15,
          7,
          13,
          15
         ],
         "yaxis": "y"
        },
        {
         "hovertemplate": "<b>%{hovertext}</b><br><br>Type=Earthquake<br>Year=%{x}<br>Number of disasters (EMDAT (2020))=%{y}<extra></extra>",
         "hovertext": [
          "Earthquake",
          "Earthquake",
          "Earthquake",
          "Earthquake",
          "Earthquake",
          "Earthquake",
          "Earthquake",
          "Earthquake",
          "Earthquake",
          "Earthquake",
          "Earthquake",
          "Earthquake",
          "Earthquake",
          "Earthquake",
          "Earthquake",
          "Earthquake",
          "Earthquake",
          "Earthquake",
          "Earthquake",
          "Earthquake",
          "Earthquake",
          "Earthquake",
          "Earthquake",
          "Earthquake",
          "Earthquake",
          "Earthquake",
          "Earthquake",
          "Earthquake",
          "Earthquake",
          "Earthquake",
          "Earthquake",
          "Earthquake",
          "Earthquake",
          "Earthquake",
          "Earthquake",
          "Earthquake",
          "Earthquake",
          "Earthquake",
          "Earthquake",
          "Earthquake",
          "Earthquake",
          "Earthquake",
          "Earthquake",
          "Earthquake",
          "Earthquake",
          "Earthquake",
          "Earthquake",
          "Earthquake",
          "Earthquake",
          "Earthquake",
          "Earthquake",
          "Earthquake",
          "Earthquake",
          "Earthquake",
          "Earthquake",
          "Earthquake",
          "Earthquake",
          "Earthquake",
          "Earthquake",
          "Earthquake",
          "Earthquake",
          "Earthquake",
          "Earthquake",
          "Earthquake",
          "Earthquake",
          "Earthquake",
          "Earthquake",
          "Earthquake",
          "Earthquake",
          "Earthquake",
          "Earthquake",
          "Earthquake",
          "Earthquake",
          "Earthquake",
          "Earthquake",
          "Earthquake",
          "Earthquake",
          "Earthquake",
          "Earthquake",
          "Earthquake",
          "Earthquake",
          "Earthquake",
          "Earthquake",
          "Earthquake",
          "Earthquake",
          "Earthquake",
          "Earthquake",
          "Earthquake",
          "Earthquake",
          "Earthquake",
          "Earthquake",
          "Earthquake",
          "Earthquake",
          "Earthquake",
          "Earthquake",
          "Earthquake",
          "Earthquake",
          "Earthquake",
          "Earthquake",
          "Earthquake",
          "Earthquake",
          "Earthquake",
          "Earthquake",
          "Earthquake",
          "Earthquake",
          "Earthquake",
          "Earthquake",
          "Earthquake",
          "Earthquake",
          "Earthquake",
          "Earthquake",
          "Earthquake",
          "Earthquake",
          "Earthquake",
          "Earthquake",
          "Earthquake"
         ],
         "legendgroup": "Earthquake",
         "line": {
          "color": "#EF553B",
          "dash": "solid",
          "shape": "spline"
         },
         "mode": "lines",
         "name": "Earthquake",
         "orientation": "v",
         "showlegend": true,
         "type": "scatter",
         "x": [
          1901,
          1902,
          1903,
          1904,
          1905,
          1906,
          1907,
          1908,
          1909,
          1910,
          1912,
          1913,
          1914,
          1915,
          1916,
          1917,
          1918,
          1920,
          1921,
          1922,
          1923,
          1924,
          1925,
          1926,
          1927,
          1928,
          1929,
          1930,
          1931,
          1932,
          1933,
          1934,
          1935,
          1936,
          1938,
          1939,
          1940,
          1941,
          1942,
          1943,
          1944,
          1945,
          1946,
          1947,
          1948,
          1949,
          1950,
          1951,
          1952,
          1953,
          1954,
          1955,
          1956,
          1957,
          1958,
          1959,
          1960,
          1961,
          1962,
          1963,
          1964,
          1965,
          1966,
          1967,
          1968,
          1969,
          1970,
          1971,
          1972,
          1973,
          1974,
          1975,
          1976,
          1977,
          1978,
          1979,
          1980,
          1981,
          1982,
          1983,
          1984,
          1985,
          1986,
          1987,
          1988,
          1989,
          1990,
          1991,
          1992,
          1993,
          1994,
          1995,
          1996,
          1997,
          1998,
          1999,
          2000,
          2001,
          2002,
          2003,
          2004,
          2005,
          2006,
          2007,
          2008,
          2009,
          2010,
          2011,
          2012,
          2013,
          2014,
          2015,
          2016,
          2017,
          2018,
          2019
         ],
         "xaxis": "x",
         "y": [
          2,
          3,
          1,
          1,
          2,
          10,
          5,
          3,
          3,
          3,
          2,
          4,
          4,
          3,
          1,
          3,
          5,
          3,
          1,
          2,
          5,
          2,
          2,
          1,
          6,
          7,
          2,
          7,
          4,
          2,
          4,
          4,
          3,
          2,
          2,
          6,
          4,
          2,
          5,
          5,
          4,
          4,
          8,
          2,
          5,
          6,
          4,
          3,
          8,
          7,
          5,
          4,
          6,
          8,
          4,
          3,
          9,
          2,
          3,
          3,
          7,
          7,
          11,
          10,
          14,
          8,
          11,
          5,
          5,
          4,
          4,
          4,
          20,
          14,
          9,
          25,
          24,
          17,
          18,
          25,
          13,
          22,
          21,
          19,
          18,
          19,
          43,
          29,
          25,
          20,
          25,
          26,
          13,
          23,
          30,
          33,
          30,
          25,
          37,
          40,
          42,
          25,
          24,
          21,
          23,
          22,
          24,
          30,
          27,
          29,
          26,
          23,
          30,
          19,
          20,
          32
         ],
         "yaxis": "y"
        },
        {
         "hovertemplate": "<b>%{hovertext}</b><br><br>Type=Extreme temperature<br>Year=%{x}<br>Number of disasters (EMDAT (2020))=%{y}<extra></extra>",
         "hovertext": [
          "Extreme temperature",
          "Extreme temperature",
          "Extreme temperature",
          "Extreme temperature",
          "Extreme temperature",
          "Extreme temperature",
          "Extreme temperature",
          "Extreme temperature",
          "Extreme temperature",
          "Extreme temperature",
          "Extreme temperature",
          "Extreme temperature",
          "Extreme temperature",
          "Extreme temperature",
          "Extreme temperature",
          "Extreme temperature",
          "Extreme temperature",
          "Extreme temperature",
          "Extreme temperature",
          "Extreme temperature",
          "Extreme temperature",
          "Extreme temperature",
          "Extreme temperature",
          "Extreme temperature",
          "Extreme temperature",
          "Extreme temperature",
          "Extreme temperature",
          "Extreme temperature",
          "Extreme temperature",
          "Extreme temperature",
          "Extreme temperature",
          "Extreme temperature",
          "Extreme temperature",
          "Extreme temperature",
          "Extreme temperature",
          "Extreme temperature",
          "Extreme temperature",
          "Extreme temperature",
          "Extreme temperature",
          "Extreme temperature",
          "Extreme temperature",
          "Extreme temperature",
          "Extreme temperature",
          "Extreme temperature",
          "Extreme temperature",
          "Extreme temperature",
          "Extreme temperature",
          "Extreme temperature",
          "Extreme temperature",
          "Extreme temperature",
          "Extreme temperature",
          "Extreme temperature",
          "Extreme temperature",
          "Extreme temperature",
          "Extreme temperature",
          "Extreme temperature",
          "Extreme temperature",
          "Extreme temperature"
         ],
         "legendgroup": "Extreme temperature",
         "line": {
          "color": "#00cc96",
          "dash": "solid",
          "shape": "spline"
         },
         "mode": "lines",
         "name": "Extreme temperature",
         "orientation": "v",
         "showlegend": true,
         "type": "scatter",
         "x": [
          1936,
          1951,
          1953,
          1955,
          1958,
          1961,
          1962,
          1963,
          1965,
          1966,
          1968,
          1971,
          1972,
          1973,
          1975,
          1977,
          1978,
          1979,
          1980,
          1981,
          1982,
          1983,
          1984,
          1985,
          1986,
          1987,
          1988,
          1989,
          1990,
          1991,
          1992,
          1993,
          1994,
          1995,
          1996,
          1997,
          1998,
          1999,
          2000,
          2001,
          2002,
          2003,
          2004,
          2005,
          2006,
          2007,
          2008,
          2009,
          2010,
          2011,
          2012,
          2013,
          2014,
          2015,
          2016,
          2017,
          2018,
          2019
         ],
         "xaxis": "x",
         "y": [
          2,
          2,
          3,
          1,
          2,
          1,
          1,
          2,
          1,
          2,
          2,
          1,
          2,
          3,
          3,
          1,
          1,
          4,
          3,
          2,
          3,
          2,
          1,
          8,
          2,
          6,
          6,
          5,
          13,
          8,
          7,
          4,
          9,
          13,
          5,
          13,
          12,
          8,
          31,
          23,
          15,
          25,
          16,
          30,
          24,
          25,
          10,
          25,
          29,
          16,
          51,
          14,
          17,
          12,
          12,
          11,
          25,
          20
         ],
         "yaxis": "y"
        },
        {
         "hovertemplate": "<b>%{hovertext}</b><br><br>Type=Extreme weather<br>Year=%{x}<br>Number of disasters (EMDAT (2020))=%{y}<extra></extra>",
         "hovertext": [
          "Extreme weather",
          "Extreme weather",
          "Extreme weather",
          "Extreme weather",
          "Extreme weather",
          "Extreme weather",
          "Extreme weather",
          "Extreme weather",
          "Extreme weather",
          "Extreme weather",
          "Extreme weather",
          "Extreme weather",
          "Extreme weather",
          "Extreme weather",
          "Extreme weather",
          "Extreme weather",
          "Extreme weather",
          "Extreme weather",
          "Extreme weather",
          "Extreme weather",
          "Extreme weather",
          "Extreme weather",
          "Extreme weather",
          "Extreme weather",
          "Extreme weather",
          "Extreme weather",
          "Extreme weather",
          "Extreme weather",
          "Extreme weather",
          "Extreme weather",
          "Extreme weather",
          "Extreme weather",
          "Extreme weather",
          "Extreme weather",
          "Extreme weather",
          "Extreme weather",
          "Extreme weather",
          "Extreme weather",
          "Extreme weather",
          "Extreme weather",
          "Extreme weather",
          "Extreme weather",
          "Extreme weather",
          "Extreme weather",
          "Extreme weather",
          "Extreme weather",
          "Extreme weather",
          "Extreme weather",
          "Extreme weather",
          "Extreme weather",
          "Extreme weather",
          "Extreme weather",
          "Extreme weather",
          "Extreme weather",
          "Extreme weather",
          "Extreme weather",
          "Extreme weather",
          "Extreme weather",
          "Extreme weather",
          "Extreme weather",
          "Extreme weather",
          "Extreme weather",
          "Extreme weather",
          "Extreme weather",
          "Extreme weather",
          "Extreme weather",
          "Extreme weather",
          "Extreme weather",
          "Extreme weather",
          "Extreme weather",
          "Extreme weather",
          "Extreme weather",
          "Extreme weather",
          "Extreme weather",
          "Extreme weather",
          "Extreme weather",
          "Extreme weather",
          "Extreme weather",
          "Extreme weather",
          "Extreme weather",
          "Extreme weather",
          "Extreme weather",
          "Extreme weather",
          "Extreme weather",
          "Extreme weather",
          "Extreme weather",
          "Extreme weather",
          "Extreme weather",
          "Extreme weather",
          "Extreme weather",
          "Extreme weather",
          "Extreme weather",
          "Extreme weather",
          "Extreme weather",
          "Extreme weather",
          "Extreme weather",
          "Extreme weather",
          "Extreme weather",
          "Extreme weather",
          "Extreme weather",
          "Extreme weather",
          "Extreme weather",
          "Extreme weather",
          "Extreme weather",
          "Extreme weather",
          "Extreme weather",
          "Extreme weather",
          "Extreme weather",
          "Extreme weather",
          "Extreme weather",
          "Extreme weather",
          "Extreme weather",
          "Extreme weather",
          "Extreme weather",
          "Extreme weather",
          "Extreme weather"
         ],
         "legendgroup": "Extreme weather",
         "line": {
          "color": "#ab63fa",
          "dash": "solid",
          "shape": "spline"
         },
         "mode": "lines",
         "name": "Extreme weather",
         "orientation": "v",
         "showlegend": true,
         "type": "scatter",
         "x": [
          1900,
          1902,
          1903,
          1904,
          1905,
          1906,
          1909,
          1910,
          1911,
          1912,
          1913,
          1914,
          1915,
          1916,
          1917,
          1918,
          1919,
          1920,
          1922,
          1923,
          1924,
          1925,
          1926,
          1927,
          1928,
          1929,
          1930,
          1931,
          1932,
          1933,
          1934,
          1935,
          1936,
          1937,
          1938,
          1939,
          1940,
          1941,
          1942,
          1943,
          1944,
          1945,
          1946,
          1947,
          1948,
          1949,
          1950,
          1951,
          1952,
          1953,
          1954,
          1955,
          1956,
          1957,
          1958,
          1959,
          1960,
          1961,
          1962,
          1963,
          1964,
          1965,
          1966,
          1967,
          1968,
          1969,
          1970,
          1971,
          1972,
          1973,
          1974,
          1975,
          1976,
          1977,
          1978,
          1979,
          1980,
          1981,
          1982,
          1983,
          1984,
          1985,
          1986,
          1987,
          1988,
          1989,
          1990,
          1991,
          1992,
          1993,
          1994,
          1995,
          1996,
          1997,
          1998,
          1999,
          2000,
          2001,
          2002,
          2003,
          2004,
          2005,
          2006,
          2007,
          2008,
          2009,
          2010,
          2011,
          2012,
          2013,
          2014,
          2015,
          2016,
          2017,
          2018,
          2019
         ],
         "xaxis": "x",
         "y": [
          1,
          1,
          2,
          1,
          1,
          3,
          5,
          1,
          2,
          5,
          1,
          1,
          2,
          1,
          2,
          1,
          2,
          1,
          2,
          6,
          2,
          3,
          7,
          4,
          7,
          2,
          4,
          4,
          5,
          3,
          4,
          7,
          5,
          3,
          2,
          2,
          3,
          2,
          3,
          3,
          5,
          7,
          5,
          7,
          10,
          8,
          7,
          11,
          10,
          11,
          10,
          19,
          14,
          9,
          13,
          16,
          20,
          14,
          13,
          21,
          22,
          19,
          28,
          25,
          25,
          25,
          24,
          22,
          26,
          22,
          28,
          28,
          36,
          32,
          42,
          31,
          42,
          50,
          52,
          59,
          57,
          51,
          56,
          58,
          60,
          73,
          137,
          66,
          76,
          108,
          81,
          81,
          77,
          79,
          88,
          106,
          102,
          105,
          122,
          86,
          124,
          130,
          76,
          105,
          111,
          87,
          94,
          84,
          90,
          105,
          99,
          118,
          84,
          85,
          84,
          85
         ],
         "yaxis": "y"
        },
        {
         "hovertemplate": "<b>%{hovertext}</b><br><br>Type=Flood<br>Year=%{x}<br>Number of disasters (EMDAT (2020))=%{y}<extra></extra>",
         "hovertext": [
          "Flood",
          "Flood",
          "Flood",
          "Flood",
          "Flood",
          "Flood",
          "Flood",
          "Flood",
          "Flood",
          "Flood",
          "Flood",
          "Flood",
          "Flood",
          "Flood",
          "Flood",
          "Flood",
          "Flood",
          "Flood",
          "Flood",
          "Flood",
          "Flood",
          "Flood",
          "Flood",
          "Flood",
          "Flood",
          "Flood",
          "Flood",
          "Flood",
          "Flood",
          "Flood",
          "Flood",
          "Flood",
          "Flood",
          "Flood",
          "Flood",
          "Flood",
          "Flood",
          "Flood",
          "Flood",
          "Flood",
          "Flood",
          "Flood",
          "Flood",
          "Flood",
          "Flood",
          "Flood",
          "Flood",
          "Flood",
          "Flood",
          "Flood",
          "Flood",
          "Flood",
          "Flood",
          "Flood",
          "Flood",
          "Flood",
          "Flood",
          "Flood",
          "Flood",
          "Flood",
          "Flood",
          "Flood",
          "Flood",
          "Flood",
          "Flood",
          "Flood",
          "Flood",
          "Flood",
          "Flood",
          "Flood",
          "Flood",
          "Flood",
          "Flood",
          "Flood",
          "Flood",
          "Flood",
          "Flood",
          "Flood",
          "Flood",
          "Flood",
          "Flood",
          "Flood",
          "Flood",
          "Flood",
          "Flood",
          "Flood",
          "Flood",
          "Flood",
          "Flood",
          "Flood",
          "Flood",
          "Flood",
          "Flood",
          "Flood",
          "Flood",
          "Flood"
         ],
         "legendgroup": "Flood",
         "line": {
          "color": "#FFA15A",
          "dash": "solid",
          "shape": "spline"
         },
         "mode": "lines",
         "name": "Flood",
         "orientation": "v",
         "showlegend": true,
         "type": "scatter",
         "x": [
          1900,
          1903,
          1906,
          1909,
          1910,
          1911,
          1915,
          1917,
          1920,
          1925,
          1926,
          1927,
          1928,
          1930,
          1931,
          1933,
          1935,
          1936,
          1937,
          1938,
          1939,
          1940,
          1943,
          1947,
          1948,
          1949,
          1950,
          1951,
          1952,
          1953,
          1954,
          1955,
          1956,
          1957,
          1958,
          1959,
          1960,
          1961,
          1962,
          1963,
          1964,
          1965,
          1966,
          1967,
          1968,
          1969,
          1970,
          1971,
          1972,
          1973,
          1974,
          1975,
          1976,
          1977,
          1978,
          1979,
          1980,
          1981,
          1982,
          1983,
          1984,
          1985,
          1986,
          1987,
          1988,
          1989,
          1990,
          1991,
          1992,
          1993,
          1994,
          1995,
          1996,
          1997,
          1998,
          1999,
          2000,
          2001,
          2002,
          2003,
          2004,
          2005,
          2006,
          2007,
          2008,
          2009,
          2010,
          2011,
          2012,
          2013,
          2014,
          2015,
          2016,
          2017,
          2018,
          2019
         ],
         "xaxis": "x",
         "y": [
          1,
          2,
          2,
          1,
          1,
          1,
          1,
          1,
          1,
          1,
          4,
          2,
          2,
          1,
          1,
          2,
          1,
          1,
          2,
          2,
          2,
          1,
          2,
          1,
          5,
          2,
          10,
          7,
          4,
          12,
          9,
          3,
          9,
          11,
          3,
          13,
          7,
          8,
          8,
          8,
          22,
          19,
          23,
          26,
          20,
          14,
          31,
          15,
          15,
          20,
          19,
          17,
          17,
          48,
          47,
          34,
          39,
          43,
          48,
          49,
          47,
          58,
          50,
          68,
          76,
          46,
          60,
          77,
          59,
          84,
          88,
          94,
          92,
          95,
          94,
          122,
          157,
          157,
          172,
          158,
          128,
          193,
          226,
          218,
          165,
          151,
          184,
          156,
          136,
          149,
          135,
          160,
          161,
          114,
          109,
          170
         ],
         "yaxis": "y"
        },
        {
         "hovertemplate": "<b>%{hovertext}</b><br><br>Type=Impact<br>Year=%{x}<br>Number of disasters (EMDAT (2020))=%{y}<extra></extra>",
         "hovertext": [
          "Impact"
         ],
         "legendgroup": "Impact",
         "line": {
          "color": "#19d3f3",
          "dash": "solid",
          "shape": "spline"
         },
         "mode": "lines",
         "name": "Impact",
         "orientation": "v",
         "showlegend": true,
         "type": "scatter",
         "x": [
          2013
         ],
         "xaxis": "x",
         "y": [
          1
         ],
         "yaxis": "y"
        },
        {
         "hovertemplate": "<b>%{hovertext}</b><br><br>Type=Landslide<br>Year=%{x}<br>Number of disasters (EMDAT (2020))=%{y}<extra></extra>",
         "hovertext": [
          "Landslide",
          "Landslide",
          "Landslide",
          "Landslide",
          "Landslide",
          "Landslide",
          "Landslide",
          "Landslide",
          "Landslide",
          "Landslide",
          "Landslide",
          "Landslide",
          "Landslide",
          "Landslide",
          "Landslide",
          "Landslide",
          "Landslide",
          "Landslide",
          "Landslide",
          "Landslide",
          "Landslide",
          "Landslide",
          "Landslide",
          "Landslide",
          "Landslide",
          "Landslide",
          "Landslide",
          "Landslide",
          "Landslide",
          "Landslide",
          "Landslide",
          "Landslide",
          "Landslide",
          "Landslide",
          "Landslide",
          "Landslide",
          "Landslide",
          "Landslide",
          "Landslide",
          "Landslide",
          "Landslide",
          "Landslide",
          "Landslide",
          "Landslide",
          "Landslide",
          "Landslide",
          "Landslide",
          "Landslide",
          "Landslide",
          "Landslide",
          "Landslide",
          "Landslide",
          "Landslide",
          "Landslide",
          "Landslide",
          "Landslide",
          "Landslide",
          "Landslide",
          "Landslide",
          "Landslide",
          "Landslide",
          "Landslide",
          "Landslide",
          "Landslide",
          "Landslide",
          "Landslide",
          "Landslide",
          "Landslide",
          "Landslide",
          "Landslide",
          "Landslide",
          "Landslide",
          "Landslide",
          "Landslide",
          "Landslide",
          "Landslide",
          "Landslide",
          "Landslide",
          "Landslide",
          "Landslide",
          "Landslide"
         ],
         "legendgroup": "Landslide",
         "line": {
          "color": "#FF6692",
          "dash": "solid",
          "shape": "spline"
         },
         "mode": "lines",
         "name": "Landslide",
         "orientation": "v",
         "showlegend": true,
         "type": "scatter",
         "x": [
          1909,
          1922,
          1923,
          1926,
          1930,
          1931,
          1932,
          1934,
          1936,
          1938,
          1941,
          1948,
          1949,
          1950,
          1951,
          1952,
          1954,
          1955,
          1956,
          1958,
          1959,
          1960,
          1961,
          1962,
          1963,
          1964,
          1965,
          1966,
          1967,
          1968,
          1969,
          1970,
          1971,
          1972,
          1973,
          1974,
          1975,
          1976,
          1977,
          1978,
          1979,
          1980,
          1981,
          1982,
          1983,
          1984,
          1985,
          1986,
          1987,
          1988,
          1989,
          1990,
          1991,
          1992,
          1993,
          1994,
          1995,
          1996,
          1997,
          1998,
          1999,
          2000,
          2001,
          2002,
          2003,
          2004,
          2005,
          2006,
          2007,
          2008,
          2009,
          2010,
          2011,
          2012,
          2013,
          2014,
          2015,
          2016,
          2017,
          2018,
          2019
         ],
         "xaxis": "x",
         "y": [
          1,
          1,
          1,
          2,
          1,
          1,
          1,
          1,
          1,
          1,
          1,
          2,
          1,
          1,
          1,
          1,
          8,
          2,
          5,
          1,
          1,
          2,
          2,
          2,
          2,
          1,
          5,
          4,
          2,
          4,
          1,
          5,
          5,
          5,
          5,
          10,
          5,
          6,
          3,
          2,
          7,
          4,
          8,
          11,
          15,
          6,
          6,
          9,
          13,
          15,
          15,
          4,
          9,
          7,
          22,
          11,
          16,
          24,
          13,
          22,
          18,
          28,
          24,
          20,
          21,
          15,
          13,
          20,
          10,
          12,
          29,
          32,
          17,
          13,
          11,
          15,
          20,
          13,
          25,
          13,
          22
         ],
         "yaxis": "y"
        },
        {
         "hovertemplate": "<b>%{hovertext}</b><br><br>Type=Mass movement (dry)<br>Year=%{x}<br>Number of disasters (EMDAT (2020))=%{y}<extra></extra>",
         "hovertext": [
          "Mass movement (dry)",
          "Mass movement (dry)",
          "Mass movement (dry)",
          "Mass movement (dry)",
          "Mass movement (dry)",
          "Mass movement (dry)",
          "Mass movement (dry)",
          "Mass movement (dry)",
          "Mass movement (dry)",
          "Mass movement (dry)",
          "Mass movement (dry)",
          "Mass movement (dry)",
          "Mass movement (dry)",
          "Mass movement (dry)",
          "Mass movement (dry)",
          "Mass movement (dry)",
          "Mass movement (dry)",
          "Mass movement (dry)",
          "Mass movement (dry)",
          "Mass movement (dry)",
          "Mass movement (dry)",
          "Mass movement (dry)",
          "Mass movement (dry)",
          "Mass movement (dry)",
          "Mass movement (dry)",
          "Mass movement (dry)",
          "Mass movement (dry)",
          "Mass movement (dry)",
          "Mass movement (dry)",
          "Mass movement (dry)",
          "Mass movement (dry)",
          "Mass movement (dry)",
          "Mass movement (dry)"
         ],
         "legendgroup": "Mass movement (dry)",
         "line": {
          "color": "#B6E880",
          "dash": "solid",
          "shape": "spline"
         },
         "mode": "lines",
         "name": "Mass movement (dry)",
         "orientation": "v",
         "showlegend": true,
         "type": "scatter",
         "x": [
          1903,
          1905,
          1908,
          1910,
          1915,
          1937,
          1955,
          1962,
          1963,
          1965,
          1970,
          1971,
          1980,
          1982,
          1983,
          1985,
          1987,
          1988,
          1989,
          1990,
          1991,
          1992,
          1993,
          2000,
          2002,
          2004,
          2006,
          2008,
          2009,
          2012,
          2013,
          2015,
          2018
         ],
         "xaxis": "x",
         "y": [
          1,
          1,
          1,
          1,
          1,
          1,
          1,
          1,
          1,
          1,
          1,
          1,
          1,
          2,
          4,
          2,
          2,
          3,
          3,
          3,
          3,
          5,
          5,
          1,
          1,
          1,
          1,
          3,
          1,
          1,
          1,
          1,
          1
         ],
         "yaxis": "y"
        },
        {
         "hovertemplate": "<b>%{hovertext}</b><br><br>Type=Volcanic activity<br>Year=%{x}<br>Number of disasters (EMDAT (2020))=%{y}<extra></extra>",
         "hovertext": [
          "Volcanic activity",
          "Volcanic activity",
          "Volcanic activity",
          "Volcanic activity",
          "Volcanic activity",
          "Volcanic activity",
          "Volcanic activity",
          "Volcanic activity",
          "Volcanic activity",
          "Volcanic activity",
          "Volcanic activity",
          "Volcanic activity",
          "Volcanic activity",
          "Volcanic activity",
          "Volcanic activity",
          "Volcanic activity",
          "Volcanic activity",
          "Volcanic activity",
          "Volcanic activity",
          "Volcanic activity",
          "Volcanic activity",
          "Volcanic activity",
          "Volcanic activity",
          "Volcanic activity",
          "Volcanic activity",
          "Volcanic activity",
          "Volcanic activity",
          "Volcanic activity",
          "Volcanic activity",
          "Volcanic activity",
          "Volcanic activity",
          "Volcanic activity",
          "Volcanic activity",
          "Volcanic activity",
          "Volcanic activity",
          "Volcanic activity",
          "Volcanic activity",
          "Volcanic activity",
          "Volcanic activity",
          "Volcanic activity",
          "Volcanic activity",
          "Volcanic activity",
          "Volcanic activity",
          "Volcanic activity",
          "Volcanic activity",
          "Volcanic activity",
          "Volcanic activity",
          "Volcanic activity",
          "Volcanic activity",
          "Volcanic activity",
          "Volcanic activity",
          "Volcanic activity",
          "Volcanic activity",
          "Volcanic activity",
          "Volcanic activity",
          "Volcanic activity",
          "Volcanic activity",
          "Volcanic activity",
          "Volcanic activity",
          "Volcanic activity",
          "Volcanic activity",
          "Volcanic activity",
          "Volcanic activity",
          "Volcanic activity",
          "Volcanic activity",
          "Volcanic activity",
          "Volcanic activity",
          "Volcanic activity",
          "Volcanic activity",
          "Volcanic activity",
          "Volcanic activity",
          "Volcanic activity",
          "Volcanic activity",
          "Volcanic activity",
          "Volcanic activity",
          "Volcanic activity",
          "Volcanic activity",
          "Volcanic activity",
          "Volcanic activity"
         ],
         "legendgroup": "Volcanic activity",
         "line": {
          "color": "#FF97FF",
          "dash": "solid",
          "shape": "spline"
         },
         "mode": "lines",
         "name": "Volcanic activity",
         "orientation": "v",
         "showlegend": true,
         "type": "scatter",
         "x": [
          1900,
          1902,
          1903,
          1906,
          1909,
          1911,
          1914,
          1919,
          1926,
          1929,
          1930,
          1931,
          1937,
          1943,
          1944,
          1945,
          1946,
          1948,
          1949,
          1950,
          1951,
          1952,
          1953,
          1954,
          1956,
          1957,
          1960,
          1963,
          1964,
          1965,
          1966,
          1968,
          1969,
          1971,
          1973,
          1975,
          1976,
          1977,
          1978,
          1979,
          1980,
          1981,
          1982,
          1983,
          1984,
          1985,
          1986,
          1987,
          1988,
          1989,
          1990,
          1991,
          1992,
          1993,
          1994,
          1995,
          1996,
          1997,
          1998,
          1999,
          2000,
          2001,
          2002,
          2003,
          2004,
          2005,
          2006,
          2007,
          2008,
          2009,
          2010,
          2011,
          2012,
          2013,
          2014,
          2015,
          2017,
          2018,
          2019
         ],
         "xaxis": "x",
         "y": [
          1,
          5,
          1,
          1,
          1,
          1,
          1,
          1,
          1,
          1,
          1,
          1,
          1,
          1,
          1,
          1,
          1,
          1,
          2,
          1,
          3,
          1,
          1,
          1,
          1,
          1,
          1,
          3,
          1,
          1,
          2,
          2,
          2,
          3,
          1,
          3,
          5,
          5,
          2,
          4,
          2,
          1,
          3,
          7,
          7,
          2,
          2,
          2,
          5,
          1,
          2,
          10,
          5,
          6,
          6,
          5,
          5,
          4,
          4,
          5,
          5,
          6,
          7,
          2,
          5,
          8,
          12,
          6,
          7,
          2,
          6,
          6,
          1,
          3,
          6,
          6,
          2,
          7,
          4
         ],
         "yaxis": "y"
        },
        {
         "hovertemplate": "<b>%{hovertext}</b><br><br>Type=Wildfire<br>Year=%{x}<br>Number of disasters (EMDAT (2020))=%{y}<extra></extra>",
         "hovertext": [
          "Wildfire",
          "Wildfire",
          "Wildfire",
          "Wildfire",
          "Wildfire",
          "Wildfire",
          "Wildfire",
          "Wildfire",
          "Wildfire",
          "Wildfire",
          "Wildfire",
          "Wildfire",
          "Wildfire",
          "Wildfire",
          "Wildfire",
          "Wildfire",
          "Wildfire",
          "Wildfire",
          "Wildfire",
          "Wildfire",
          "Wildfire",
          "Wildfire",
          "Wildfire",
          "Wildfire",
          "Wildfire",
          "Wildfire",
          "Wildfire",
          "Wildfire",
          "Wildfire",
          "Wildfire",
          "Wildfire",
          "Wildfire",
          "Wildfire",
          "Wildfire",
          "Wildfire",
          "Wildfire",
          "Wildfire",
          "Wildfire",
          "Wildfire",
          "Wildfire",
          "Wildfire",
          "Wildfire",
          "Wildfire",
          "Wildfire",
          "Wildfire",
          "Wildfire",
          "Wildfire",
          "Wildfire",
          "Wildfire",
          "Wildfire",
          "Wildfire",
          "Wildfire",
          "Wildfire",
          "Wildfire",
          "Wildfire",
          "Wildfire",
          "Wildfire",
          "Wildfire",
          "Wildfire",
          "Wildfire",
          "Wildfire",
          "Wildfire",
          "Wildfire"
         ],
         "legendgroup": "Wildfire",
         "line": {
          "color": "#FECB52",
          "dash": "solid",
          "shape": "spline"
         },
         "mode": "lines",
         "name": "Wildfire",
         "orientation": "v",
         "showlegend": true,
         "type": "scatter",
         "x": [
          1911,
          1918,
          1922,
          1929,
          1939,
          1944,
          1947,
          1949,
          1956,
          1965,
          1966,
          1967,
          1968,
          1969,
          1970,
          1971,
          1972,
          1973,
          1974,
          1975,
          1976,
          1977,
          1978,
          1979,
          1980,
          1981,
          1982,
          1983,
          1984,
          1985,
          1986,
          1987,
          1989,
          1990,
          1991,
          1992,
          1993,
          1994,
          1995,
          1996,
          1997,
          1998,
          1999,
          2000,
          2001,
          2002,
          2003,
          2004,
          2005,
          2006,
          2007,
          2008,
          2009,
          2010,
          2011,
          2012,
          2013,
          2014,
          2015,
          2016,
          2017,
          2018,
          2019
         ],
         "xaxis": "x",
         "y": [
          1,
          1,
          1,
          1,
          1,
          2,
          1,
          1,
          1,
          1,
          1,
          2,
          3,
          2,
          3,
          2,
          3,
          3,
          3,
          2,
          1,
          2,
          3,
          4,
          4,
          4,
          3,
          12,
          7,
          13,
          6,
          8,
          3,
          4,
          8,
          8,
          2,
          13,
          7,
          5,
          16,
          18,
          22,
          30,
          14,
          22,
          14,
          8,
          13,
          9,
          18,
          5,
          9,
          7,
          8,
          6,
          10,
          4,
          12,
          10,
          13,
          10,
          13
         ],
         "yaxis": "y"
        }
       ],
       "layout": {
        "legend": {
         "title": {
          "text": "Type"
         },
         "tracegroupgap": 0
        },
        "margin": {
         "t": 60
        },
        "template": {
         "data": {
          "bar": [
           {
            "error_x": {
             "color": "#2a3f5f"
            },
            "error_y": {
             "color": "#2a3f5f"
            },
            "marker": {
             "line": {
              "color": "#E5ECF6",
              "width": 0.5
             }
            },
            "type": "bar"
           }
          ],
          "barpolar": [
           {
            "marker": {
             "line": {
              "color": "#E5ECF6",
              "width": 0.5
             }
            },
            "type": "barpolar"
           }
          ],
          "carpet": [
           {
            "aaxis": {
             "endlinecolor": "#2a3f5f",
             "gridcolor": "white",
             "linecolor": "white",
             "minorgridcolor": "white",
             "startlinecolor": "#2a3f5f"
            },
            "baxis": {
             "endlinecolor": "#2a3f5f",
             "gridcolor": "white",
             "linecolor": "white",
             "minorgridcolor": "white",
             "startlinecolor": "#2a3f5f"
            },
            "type": "carpet"
           }
          ],
          "choropleth": [
           {
            "colorbar": {
             "outlinewidth": 0,
             "ticks": ""
            },
            "type": "choropleth"
           }
          ],
          "contour": [
           {
            "colorbar": {
             "outlinewidth": 0,
             "ticks": ""
            },
            "colorscale": [
             [
              0,
              "#0d0887"
             ],
             [
              0.1111111111111111,
              "#46039f"
             ],
             [
              0.2222222222222222,
              "#7201a8"
             ],
             [
              0.3333333333333333,
              "#9c179e"
             ],
             [
              0.4444444444444444,
              "#bd3786"
             ],
             [
              0.5555555555555556,
              "#d8576b"
             ],
             [
              0.6666666666666666,
              "#ed7953"
             ],
             [
              0.7777777777777778,
              "#fb9f3a"
             ],
             [
              0.8888888888888888,
              "#fdca26"
             ],
             [
              1,
              "#f0f921"
             ]
            ],
            "type": "contour"
           }
          ],
          "contourcarpet": [
           {
            "colorbar": {
             "outlinewidth": 0,
             "ticks": ""
            },
            "type": "contourcarpet"
           }
          ],
          "heatmap": [
           {
            "colorbar": {
             "outlinewidth": 0,
             "ticks": ""
            },
            "colorscale": [
             [
              0,
              "#0d0887"
             ],
             [
              0.1111111111111111,
              "#46039f"
             ],
             [
              0.2222222222222222,
              "#7201a8"
             ],
             [
              0.3333333333333333,
              "#9c179e"
             ],
             [
              0.4444444444444444,
              "#bd3786"
             ],
             [
              0.5555555555555556,
              "#d8576b"
             ],
             [
              0.6666666666666666,
              "#ed7953"
             ],
             [
              0.7777777777777778,
              "#fb9f3a"
             ],
             [
              0.8888888888888888,
              "#fdca26"
             ],
             [
              1,
              "#f0f921"
             ]
            ],
            "type": "heatmap"
           }
          ],
          "heatmapgl": [
           {
            "colorbar": {
             "outlinewidth": 0,
             "ticks": ""
            },
            "colorscale": [
             [
              0,
              "#0d0887"
             ],
             [
              0.1111111111111111,
              "#46039f"
             ],
             [
              0.2222222222222222,
              "#7201a8"
             ],
             [
              0.3333333333333333,
              "#9c179e"
             ],
             [
              0.4444444444444444,
              "#bd3786"
             ],
             [
              0.5555555555555556,
              "#d8576b"
             ],
             [
              0.6666666666666666,
              "#ed7953"
             ],
             [
              0.7777777777777778,
              "#fb9f3a"
             ],
             [
              0.8888888888888888,
              "#fdca26"
             ],
             [
              1,
              "#f0f921"
             ]
            ],
            "type": "heatmapgl"
           }
          ],
          "histogram": [
           {
            "marker": {
             "colorbar": {
              "outlinewidth": 0,
              "ticks": ""
             }
            },
            "type": "histogram"
           }
          ],
          "histogram2d": [
           {
            "colorbar": {
             "outlinewidth": 0,
             "ticks": ""
            },
            "colorscale": [
             [
              0,
              "#0d0887"
             ],
             [
              0.1111111111111111,
              "#46039f"
             ],
             [
              0.2222222222222222,
              "#7201a8"
             ],
             [
              0.3333333333333333,
              "#9c179e"
             ],
             [
              0.4444444444444444,
              "#bd3786"
             ],
             [
              0.5555555555555556,
              "#d8576b"
             ],
             [
              0.6666666666666666,
              "#ed7953"
             ],
             [
              0.7777777777777778,
              "#fb9f3a"
             ],
             [
              0.8888888888888888,
              "#fdca26"
             ],
             [
              1,
              "#f0f921"
             ]
            ],
            "type": "histogram2d"
           }
          ],
          "histogram2dcontour": [
           {
            "colorbar": {
             "outlinewidth": 0,
             "ticks": ""
            },
            "colorscale": [
             [
              0,
              "#0d0887"
             ],
             [
              0.1111111111111111,
              "#46039f"
             ],
             [
              0.2222222222222222,
              "#7201a8"
             ],
             [
              0.3333333333333333,
              "#9c179e"
             ],
             [
              0.4444444444444444,
              "#bd3786"
             ],
             [
              0.5555555555555556,
              "#d8576b"
             ],
             [
              0.6666666666666666,
              "#ed7953"
             ],
             [
              0.7777777777777778,
              "#fb9f3a"
             ],
             [
              0.8888888888888888,
              "#fdca26"
             ],
             [
              1,
              "#f0f921"
             ]
            ],
            "type": "histogram2dcontour"
           }
          ],
          "mesh3d": [
           {
            "colorbar": {
             "outlinewidth": 0,
             "ticks": ""
            },
            "type": "mesh3d"
           }
          ],
          "parcoords": [
           {
            "line": {
             "colorbar": {
              "outlinewidth": 0,
              "ticks": ""
             }
            },
            "type": "parcoords"
           }
          ],
          "pie": [
           {
            "automargin": true,
            "type": "pie"
           }
          ],
          "scatter": [
           {
            "marker": {
             "colorbar": {
              "outlinewidth": 0,
              "ticks": ""
             }
            },
            "type": "scatter"
           }
          ],
          "scatter3d": [
           {
            "line": {
             "colorbar": {
              "outlinewidth": 0,
              "ticks": ""
             }
            },
            "marker": {
             "colorbar": {
              "outlinewidth": 0,
              "ticks": ""
             }
            },
            "type": "scatter3d"
           }
          ],
          "scattercarpet": [
           {
            "marker": {
             "colorbar": {
              "outlinewidth": 0,
              "ticks": ""
             }
            },
            "type": "scattercarpet"
           }
          ],
          "scattergeo": [
           {
            "marker": {
             "colorbar": {
              "outlinewidth": 0,
              "ticks": ""
             }
            },
            "type": "scattergeo"
           }
          ],
          "scattergl": [
           {
            "marker": {
             "colorbar": {
              "outlinewidth": 0,
              "ticks": ""
             }
            },
            "type": "scattergl"
           }
          ],
          "scattermapbox": [
           {
            "marker": {
             "colorbar": {
              "outlinewidth": 0,
              "ticks": ""
             }
            },
            "type": "scattermapbox"
           }
          ],
          "scatterpolar": [
           {
            "marker": {
             "colorbar": {
              "outlinewidth": 0,
              "ticks": ""
             }
            },
            "type": "scatterpolar"
           }
          ],
          "scatterpolargl": [
           {
            "marker": {
             "colorbar": {
              "outlinewidth": 0,
              "ticks": ""
             }
            },
            "type": "scatterpolargl"
           }
          ],
          "scatterternary": [
           {
            "marker": {
             "colorbar": {
              "outlinewidth": 0,
              "ticks": ""
             }
            },
            "type": "scatterternary"
           }
          ],
          "surface": [
           {
            "colorbar": {
             "outlinewidth": 0,
             "ticks": ""
            },
            "colorscale": [
             [
              0,
              "#0d0887"
             ],
             [
              0.1111111111111111,
              "#46039f"
             ],
             [
              0.2222222222222222,
              "#7201a8"
             ],
             [
              0.3333333333333333,
              "#9c179e"
             ],
             [
              0.4444444444444444,
              "#bd3786"
             ],
             [
              0.5555555555555556,
              "#d8576b"
             ],
             [
              0.6666666666666666,
              "#ed7953"
             ],
             [
              0.7777777777777778,
              "#fb9f3a"
             ],
             [
              0.8888888888888888,
              "#fdca26"
             ],
             [
              1,
              "#f0f921"
             ]
            ],
            "type": "surface"
           }
          ],
          "table": [
           {
            "cells": {
             "fill": {
              "color": "#EBF0F8"
             },
             "line": {
              "color": "white"
             }
            },
            "header": {
             "fill": {
              "color": "#C8D4E3"
             },
             "line": {
              "color": "white"
             }
            },
            "type": "table"
           }
          ]
         },
         "layout": {
          "annotationdefaults": {
           "arrowcolor": "#2a3f5f",
           "arrowhead": 0,
           "arrowwidth": 1
          },
          "coloraxis": {
           "colorbar": {
            "outlinewidth": 0,
            "ticks": ""
           }
          },
          "colorscale": {
           "diverging": [
            [
             0,
             "#8e0152"
            ],
            [
             0.1,
             "#c51b7d"
            ],
            [
             0.2,
             "#de77ae"
            ],
            [
             0.3,
             "#f1b6da"
            ],
            [
             0.4,
             "#fde0ef"
            ],
            [
             0.5,
             "#f7f7f7"
            ],
            [
             0.6,
             "#e6f5d0"
            ],
            [
             0.7,
             "#b8e186"
            ],
            [
             0.8,
             "#7fbc41"
            ],
            [
             0.9,
             "#4d9221"
            ],
            [
             1,
             "#276419"
            ]
           ],
           "sequential": [
            [
             0,
             "#0d0887"
            ],
            [
             0.1111111111111111,
             "#46039f"
            ],
            [
             0.2222222222222222,
             "#7201a8"
            ],
            [
             0.3333333333333333,
             "#9c179e"
            ],
            [
             0.4444444444444444,
             "#bd3786"
            ],
            [
             0.5555555555555556,
             "#d8576b"
            ],
            [
             0.6666666666666666,
             "#ed7953"
            ],
            [
             0.7777777777777778,
             "#fb9f3a"
            ],
            [
             0.8888888888888888,
             "#fdca26"
            ],
            [
             1,
             "#f0f921"
            ]
           ],
           "sequentialminus": [
            [
             0,
             "#0d0887"
            ],
            [
             0.1111111111111111,
             "#46039f"
            ],
            [
             0.2222222222222222,
             "#7201a8"
            ],
            [
             0.3333333333333333,
             "#9c179e"
            ],
            [
             0.4444444444444444,
             "#bd3786"
            ],
            [
             0.5555555555555556,
             "#d8576b"
            ],
            [
             0.6666666666666666,
             "#ed7953"
            ],
            [
             0.7777777777777778,
             "#fb9f3a"
            ],
            [
             0.8888888888888888,
             "#fdca26"
            ],
            [
             1,
             "#f0f921"
            ]
           ]
          },
          "colorway": [
           "#636efa",
           "#EF553B",
           "#00cc96",
           "#ab63fa",
           "#FFA15A",
           "#19d3f3",
           "#FF6692",
           "#B6E880",
           "#FF97FF",
           "#FECB52"
          ],
          "font": {
           "color": "#2a3f5f"
          },
          "geo": {
           "bgcolor": "white",
           "lakecolor": "white",
           "landcolor": "#E5ECF6",
           "showlakes": true,
           "showland": true,
           "subunitcolor": "white"
          },
          "hoverlabel": {
           "align": "left"
          },
          "hovermode": "closest",
          "mapbox": {
           "style": "light"
          },
          "paper_bgcolor": "white",
          "plot_bgcolor": "#E5ECF6",
          "polar": {
           "angularaxis": {
            "gridcolor": "white",
            "linecolor": "white",
            "ticks": ""
           },
           "bgcolor": "#E5ECF6",
           "radialaxis": {
            "gridcolor": "white",
            "linecolor": "white",
            "ticks": ""
           }
          },
          "scene": {
           "xaxis": {
            "backgroundcolor": "#E5ECF6",
            "gridcolor": "white",
            "gridwidth": 2,
            "linecolor": "white",
            "showbackground": true,
            "ticks": "",
            "zerolinecolor": "white"
           },
           "yaxis": {
            "backgroundcolor": "#E5ECF6",
            "gridcolor": "white",
            "gridwidth": 2,
            "linecolor": "white",
            "showbackground": true,
            "ticks": "",
            "zerolinecolor": "white"
           },
           "zaxis": {
            "backgroundcolor": "#E5ECF6",
            "gridcolor": "white",
            "gridwidth": 2,
            "linecolor": "white",
            "showbackground": true,
            "ticks": "",
            "zerolinecolor": "white"
           }
          },
          "shapedefaults": {
           "line": {
            "color": "#2a3f5f"
           }
          },
          "ternary": {
           "aaxis": {
            "gridcolor": "white",
            "linecolor": "white",
            "ticks": ""
           },
           "baxis": {
            "gridcolor": "white",
            "linecolor": "white",
            "ticks": ""
           },
           "bgcolor": "#E5ECF6",
           "caxis": {
            "gridcolor": "white",
            "linecolor": "white",
            "ticks": ""
           }
          },
          "title": {
           "x": 0.05
          },
          "xaxis": {
           "automargin": true,
           "gridcolor": "white",
           "linecolor": "white",
           "ticks": "",
           "title": {
            "standoff": 15
           },
           "zerolinecolor": "white",
           "zerolinewidth": 2
          },
          "yaxis": {
           "automargin": true,
           "gridcolor": "white",
           "linecolor": "white",
           "ticks": "",
           "title": {
            "standoff": 15
           },
           "zerolinecolor": "white",
           "zerolinewidth": 2
          }
         }
        },
        "title": {
         "text": "Number of Natural Disasters"
        },
        "xaxis": {
         "anchor": "y",
         "domain": [
          0,
          1
         ],
         "title": {
          "text": "Year"
         }
        },
        "yaxis": {
         "anchor": "x",
         "domain": [
          0,
          1
         ],
         "title": {
          "text": "Number of disasters (EMDAT (2020))"
         }
        }
       }
      }
     },
     "metadata": {}
    }
   ],
   "source": [
    "from read_disaster import fig_natural_disaster\n",
    "fig = fig_natural_disaster()\n",
    "fig.show()"
   ]
  },
  {
   "cell_type": "code",
   "execution_count": 4,
   "metadata": {},
   "outputs": [
    {
     "output_type": "display_data",
     "data": {
      "application/vnd.plotly.v1+json": {
       "config": {
        "plotlyServerURL": "https://plot.ly"
       },
       "data": [
        {
         "hovertemplate": "area=Africa<br>year=%{x}<br>co2=%{y}<extra></extra>",
         "legendgroup": "Africa",
         "line": {
          "color": "#636efa",
          "dash": "solid",
          "shape": "spline"
         },
         "mode": "lines",
         "name": "Africa",
         "orientation": "v",
         "showlegend": true,
         "type": "scatter",
         "x": [
          1900,
          1901,
          1902,
          1903,
          1904,
          1905,
          1906,
          1907,
          1908,
          1909,
          1910,
          1911,
          1912,
          1913,
          1914,
          1915,
          1916,
          1917,
          1918,
          1919,
          1920,
          1921,
          1922,
          1923,
          1924,
          1925,
          1926,
          1927,
          1928,
          1929,
          1930,
          1931,
          1932,
          1933,
          1934,
          1935,
          1936,
          1937,
          1938,
          1939,
          1940,
          1941,
          1942,
          1943,
          1944,
          1945,
          1946,
          1947,
          1948,
          1949,
          1950,
          1951,
          1952,
          1953,
          1954,
          1955,
          1956,
          1957,
          1958,
          1959,
          1960,
          1961,
          1962,
          1963,
          1964,
          1965,
          1966,
          1967,
          1968,
          1969,
          1970,
          1971,
          1972,
          1973,
          1974,
          1975,
          1976,
          1977,
          1978,
          1979,
          1980,
          1981,
          1982,
          1983,
          1984,
          1985,
          1986,
          1987,
          1988,
          1989,
          1990,
          1991,
          1992,
          1993,
          1994,
          1995,
          1996,
          1997,
          1998,
          1999,
          2000,
          2001,
          2002,
          2003,
          2004,
          2005,
          2006,
          2007,
          2008,
          2009,
          2010,
          2011,
          2012,
          2013,
          2014,
          2015,
          2016,
          2017,
          2018
         ],
         "xaxis": "x",
         "y": [
          2.33,
          3.909,
          5.8260000000000005,
          7.896,
          8.911,
          10.263,
          11.717,
          12.93,
          13.402999999999999,
          15.385,
          17.410999999999998,
          16.865,
          17.954,
          19.605999999999998,
          19.551,
          19.605999999999998,
          23.255,
          25.344,
          24.725,
          25.443,
          28.052,
          27.986,
          23.97,
          29.045,
          30.631,
          32.185,
          34.438,
          33.841,
          34.771,
          35.805,
          33.698,
          29.465999999999998,
          26.625999999999998,
          28.495,
          32.544000000000004,
          35.915,
          39.022,
          41.85,
          44.019,
          46.858999999999995,
          49.655,
          54.028999999999996,
          58.82899999999999,
          60.126000000000005,
          66.641,
          67.535,
          68.169,
          67.945,
          71.745,
          77.336,
          87.251,
          93.124,
          101.255,
          102.544,
          107.12799999999999,
          117.486,
          121.931,
          127.95100000000001,
          137.466,
          147.944,
          156.673,
          162.111,
          166.467,
          176.481,
          193.793,
          213.817,
          221.291,
          237.29,
          257.535,
          278.161,
          302.943,
          332.211,
          352.25300000000004,
          378.44199999999995,
          388.897,
          387.869,
          420.91,
          433.76800000000003,
          463.346,
          500.092,
          536.634,
          549.528,
          572.76,
          595.613,
          650.46,
          666.875,
          690.904,
          691.013,
          726.285,
          699.477,
          658.1460000000001,
          687.395,
          669.867,
          710.3430000000001,
          721.1569999999999,
          773.232,
          783.9010000000001,
          813.942,
          838.13,
          830.3839999999999,
          891.37,
          885.188,
          890.4960000000001,
          966.578,
          1033.39,
          1051.692,
          1091.649,
          1134.625,
          1185.106,
          1196.4660000000001,
          1220.494,
          1250.925,
          1260.972,
          1277.276,
          1365.2979999999998,
          1330.237,
          1354.961,
          1370.14,
          1400.8410000000001
         ],
         "yaxis": "y"
        },
        {
         "hovertemplate": "area=Asia<br>year=%{x}<br>co2=%{y}<extra></extra>",
         "legendgroup": "Asia",
         "line": {
          "color": "#EF553B",
          "dash": "solid",
          "shape": "spline"
         },
         "mode": "lines",
         "name": "Asia",
         "orientation": "v",
         "showlegend": true,
         "type": "scatter",
         "x": [
          1900,
          1901,
          1902,
          1903,
          1904,
          1905,
          1906,
          1907,
          1908,
          1909,
          1910,
          1911,
          1912,
          1913,
          1914,
          1915,
          1916,
          1917,
          1918,
          1919,
          1920,
          1921,
          1922,
          1923,
          1924,
          1925,
          1926,
          1927,
          1928,
          1929,
          1930,
          1931,
          1932,
          1933,
          1934,
          1935,
          1936,
          1937,
          1938,
          1939,
          1940,
          1941,
          1942,
          1943,
          1944,
          1945,
          1946,
          1947,
          1948,
          1949,
          1950,
          1951,
          1952,
          1953,
          1954,
          1955,
          1956,
          1957,
          1958,
          1959,
          1960,
          1961,
          1962,
          1963,
          1964,
          1965,
          1966,
          1967,
          1968,
          1969,
          1970,
          1971,
          1972,
          1973,
          1974,
          1975,
          1976,
          1977,
          1978,
          1979,
          1980,
          1981,
          1982,
          1983,
          1984,
          1985,
          1986,
          1987,
          1988,
          1989,
          1990,
          1991,
          1992,
          1993,
          1994,
          1995,
          1996,
          1997,
          1998,
          1999,
          2000,
          2001,
          2002,
          2003,
          2004,
          2005,
          2006,
          2007,
          2008,
          2009,
          2010,
          2011,
          2012,
          2013,
          2014,
          2015,
          2016,
          2017,
          2018
         ],
         "xaxis": "x",
         "y": [
          35.391,
          41.586000000000006,
          44.21,
          48.946999999999996,
          54.997,
          57.466,
          78.49,
          84.206,
          96.26799999999999,
          95.242,
          94.245,
          110.367,
          100.569,
          110.917,
          119.90799999999999,
          117.27,
          126.837,
          140.221,
          151.811,
          169.55900000000003,
          161.194,
          157.504,
          166.111,
          182.577,
          196.416,
          199.64,
          198.592,
          216.128,
          225.358,
          235.43,
          230.546,
          216.843,
          213.575,
          234.34900000000002,
          263.731,
          284.836,
          310.165,
          330.881,
          342.35,
          364.524,
          409.958,
          422.496,
          409.001,
          401.73199999999997,
          394.73,
          279.867,
          262.19599999999997,
          312.748,
          302.177,
          383.185,
          298.532,
          357.841,
          399.86,
          430.227,
          471.67,
          538.33,
          600.134,
          692.58,
          978.002,
          1399.714,
          1546.2479999999998,
          1402.4820000000002,
          1352.71,
          1434.4,
          1515.8010000000002,
          1660.013,
          1806.233,
          1835.53,
          2027.219,
          2298.404,
          2701.078,
          2960.184,
          3128.3109999999997,
          3358.657,
          3420.204,
          3591.308,
          3824.2659999999996,
          4070.303,
          4251.457,
          4425.782,
          4426.557,
          4401.417,
          4551.233,
          4735.003,
          5007.262,
          5306.531,
          5521.441,
          5749.035,
          6197.2919999999995,
          6414.517,
          6596.534000000001,
          6915.5019999999995,
          7177.098000000001,
          7513.6759999999995,
          7843.6359999999995,
          8161.142,
          8513.204,
          8619.11,
          8354.19,
          8600.808,
          9031.31,
          9182.151,
          9683.731,
          10571.228000000001,
          11543.937,
          12362.823999999999,
          13188.82,
          13909.603000000001,
          14756.733999999999,
          15337.657,
          16348.193000000001,
          17583.039,
          18279.894,
          18380.131,
          18703.586,
          18859.951,
          19090.218999999997,
          19472.851000000002,
          20074.101000000002
         ],
         "yaxis": "y"
        },
        {
         "hovertemplate": "area=Europe<br>year=%{x}<br>co2=%{y}<extra></extra>",
         "legendgroup": "Europe",
         "line": {
          "color": "#00cc96",
          "dash": "solid",
          "shape": "spline"
         },
         "mode": "lines",
         "name": "Europe",
         "orientation": "v",
         "showlegend": true,
         "type": "scatter",
         "x": [
          1900,
          1901,
          1902,
          1903,
          1904,
          1905,
          1906,
          1907,
          1908,
          1909,
          1910,
          1911,
          1912,
          1913,
          1914,
          1915,
          1916,
          1917,
          1918,
          1919,
          1920,
          1921,
          1922,
          1923,
          1924,
          1925,
          1926,
          1927,
          1928,
          1929,
          1930,
          1931,
          1932,
          1933,
          1934,
          1935,
          1936,
          1937,
          1938,
          1939,
          1940,
          1941,
          1942,
          1943,
          1944,
          1945,
          1946,
          1947,
          1948,
          1949,
          1950,
          1951,
          1952,
          1953,
          1954,
          1955,
          1956,
          1957,
          1958,
          1959,
          1960,
          1961,
          1962,
          1963,
          1964,
          1965,
          1966,
          1967,
          1968,
          1969,
          1970,
          1971,
          1972,
          1973,
          1974,
          1975,
          1976,
          1977,
          1978,
          1979,
          1980,
          1981,
          1982,
          1983,
          1984,
          1985,
          1986,
          1987,
          1988,
          1989,
          1990,
          1991,
          1992,
          1993,
          1994,
          1995,
          1996,
          1997,
          1998,
          1999,
          2000,
          2001,
          2002,
          2003,
          2004,
          2005,
          2006,
          2007,
          2008,
          2009,
          2010,
          2011,
          2012,
          2013,
          2014,
          2015,
          2016,
          2017,
          2018
         ],
         "xaxis": "x",
         "y": [
          1215.448,
          1205.211,
          1205.68,
          1254.44,
          1278.637,
          1314.5479999999998,
          1357.461,
          1504.219,
          1528.086,
          1529.984,
          1549.703,
          1585.8120000000001,
          1645.246,
          1781.7520000000002,
          1587.351,
          1505.435,
          1573.9879999999998,
          1546.1970000000001,
          1399.1529999999998,
          1188.096,
          1376.854,
          1257.397,
          1403.0520000000001,
          1341.4089999999999,
          1548.355,
          1533.516,
          1318.256,
          1682.1789999999999,
          1690.7779999999998,
          1835.1689999999999,
          1741.4260000000002,
          1630.9379999999999,
          1520.509,
          1568.126,
          1719.764,
          1809.3929999999998,
          1925.351,
          2086.556,
          2098.725,
          2147.511,
          2291.528,
          2198.84,
          2088.564,
          2167.677,
          1935.266,
          1282.0810000000001,
          1711.418,
          1973.295,
          2125.897,
          2322.2070000000003,
          2471.408,
          2725.6279999999997,
          2816.297,
          2899.9390000000003,
          3088.2870000000003,
          3367.813,
          3592.2659999999996,
          3754.12,
          3803.386,
          3852.014,
          4088.5490000000004,
          4236.037,
          4472.622,
          4786.48,
          5007.37,
          5157.388,
          5304.831999999999,
          5418.253000000001,
          5672.763000000001,
          5987.459,
          6319.523,
          6552.435,
          6774.905,
          7092.169,
          7112.42,
          7150.331,
          7553.036,
          7604.369000000001,
          7851.393,
          8053.276999999999,
          8053.564,
          7780.746,
          7709.491,
          7727.017,
          7786.679,
          8108.293000000001,
          8132.32,
          8146.621,
          8194.429,
          8162.342,
          8366.085,
          8014.922,
          7090.096,
          6802.959,
          6449.311,
          6433.815,
          6480.101,
          6280.2480000000005,
          6249.67,
          6161.683000000001,
          6165.187,
          6298.055,
          6257.633000000001,
          6398.286999999999,
          6426.920999999999,
          6416.5019999999995,
          6512.918000000001,
          6461.464,
          6390.156999999999,
          5882.726,
          6107.599,
          6031.361,
          5974.189,
          5820.6759999999995,
          5595.416,
          5600.982,
          5595.406999999999,
          5632.967,
          5627.102
         ],
         "yaxis": "y"
        },
        {
         "hovertemplate": "area=North America<br>year=%{x}<br>co2=%{y}<extra></extra>",
         "legendgroup": "North America",
         "line": {
          "color": "#ab63fa",
          "dash": "solid",
          "shape": "spline"
         },
         "mode": "lines",
         "name": "North America",
         "orientation": "v",
         "showlegend": true,
         "type": "scatter",
         "x": [
          1900,
          1901,
          1902,
          1903,
          1904,
          1905,
          1906,
          1907,
          1908,
          1909,
          1910,
          1911,
          1912,
          1913,
          1914,
          1915,
          1916,
          1917,
          1918,
          1919,
          1920,
          1921,
          1922,
          1923,
          1924,
          1925,
          1926,
          1927,
          1928,
          1929,
          1930,
          1931,
          1932,
          1933,
          1934,
          1935,
          1936,
          1937,
          1938,
          1939,
          1940,
          1941,
          1942,
          1943,
          1944,
          1945,
          1946,
          1947,
          1948,
          1949,
          1950,
          1951,
          1952,
          1953,
          1954,
          1955,
          1956,
          1957,
          1958,
          1959,
          1960,
          1961,
          1962,
          1963,
          1964,
          1965,
          1966,
          1967,
          1968,
          1969,
          1970,
          1971,
          1972,
          1973,
          1974,
          1975,
          1976,
          1977,
          1978,
          1979,
          1980,
          1981,
          1982,
          1983,
          1984,
          1985,
          1986,
          1987,
          1988,
          1989,
          1990,
          1991,
          1992,
          1993,
          1994,
          1995,
          1996,
          1997,
          1998,
          1999,
          2000,
          2001,
          2002,
          2003,
          2004,
          2005,
          2006,
          2007,
          2008,
          2009,
          2010,
          2011,
          2012,
          2013,
          2014,
          2015,
          2016,
          2017,
          2018
         ],
         "xaxis": "x",
         "y": [
          684.3660000000001,
          746.683,
          791.567,
          923.922,
          915.0360000000001,
          1021.5930000000001,
          1072.647,
          1251.058,
          1102.153,
          1212.458,
          1325.0710000000001,
          1325.181,
          1417.3120000000001,
          1531.361,
          1394.511,
          1441.033,
          1610.3129999999999,
          1780.371,
          1866.515,
          1594.774,
          1897.582,
          1593.745,
          1589.069,
          2060.238,
          1842.505,
          1875.1770000000001,
          2019.9379999999999,
          1970.734,
          1948.889,
          2085.124,
          1860.598,
          1578.766,
          1346.0620000000001,
          1437.479,
          1537.979,
          1595.5770000000002,
          1824.566,
          1915.2020000000002,
          1631.5720000000001,
          1794.994,
          2014.0639999999999,
          2191.907,
          2354.721,
          2434.688,
          2611.791,
          2519.638,
          2428.2129999999997,
          2665.901,
          2778.975,
          2348.001,
          2731.908,
          2822.881,
          2755.508,
          2817.118,
          2696.3190000000004,
          2946.684,
          3100.4109999999996,
          3084.868,
          3006.697,
          3106.155,
          3179.8059999999996,
          3175.035,
          3299.671,
          3431.66,
          3609.687,
          3760.302,
          3944.265,
          4115.022,
          4276.994000000001,
          4488.3009999999995,
          4848.485,
          4902.183,
          5147.829000000001,
          5374.816,
          5223.487,
          5050.794,
          5294.238,
          5437.064,
          5618.894,
          5678.118,
          5529.78,
          5340.007,
          5118.835,
          5110.573,
          5268.494000000001,
          5297.347,
          5278.135,
          5514.884,
          5744.424,
          5876.531999999999,
          6005.415,
          5955.593000000001,
          6072.274,
          6186.753000000001,
          6313.802,
          6377.098000000001,
          6602.059,
          6717.581999999999,
          6788.682,
          6894.951999999999,
          7104.8859999999995,
          7020.709,
          7075.438,
          7172.691999999999,
          7287.007,
          7335.558000000001,
          7271.121,
          7381.909000000001,
          7175.044,
          6689.015,
          6902.749,
          6805.618,
          6613.496999999999,
          6767.698,
          6808.882,
          6662.183000000001,
          6535.305,
          6513.049,
          6645.028
         ],
         "yaxis": "y"
        },
        {
         "hovertemplate": "area=Oceania<br>year=%{x}<br>co2=%{y}<extra></extra>",
         "legendgroup": "Oceania",
         "line": {
          "color": "#FFA15A",
          "dash": "solid",
          "shape": "spline"
         },
         "mode": "lines",
         "name": "Oceania",
         "orientation": "v",
         "showlegend": true,
         "type": "scatter",
         "x": [
          1900,
          1901,
          1902,
          1903,
          1904,
          1905,
          1906,
          1907,
          1908,
          1909,
          1910,
          1911,
          1912,
          1913,
          1914,
          1915,
          1916,
          1917,
          1918,
          1919,
          1920,
          1921,
          1922,
          1923,
          1924,
          1925,
          1926,
          1927,
          1928,
          1929,
          1930,
          1931,
          1932,
          1933,
          1934,
          1935,
          1936,
          1937,
          1938,
          1939,
          1940,
          1941,
          1942,
          1943,
          1944,
          1945,
          1946,
          1947,
          1948,
          1949,
          1950,
          1951,
          1952,
          1953,
          1954,
          1955,
          1956,
          1957,
          1958,
          1959,
          1960,
          1961,
          1962,
          1963,
          1964,
          1965,
          1966,
          1967,
          1968,
          1969,
          1970,
          1971,
          1972,
          1973,
          1974,
          1975,
          1976,
          1977,
          1978,
          1979,
          1980,
          1981,
          1982,
          1983,
          1984,
          1985,
          1986,
          1987,
          1988,
          1989,
          1990,
          1991,
          1992,
          1993,
          1994,
          1995,
          1996,
          1997,
          1998,
          1999,
          2000,
          2001,
          2002,
          2003,
          2004,
          2005,
          2006,
          2007,
          2008,
          2009,
          2010,
          2011,
          2012,
          2013,
          2014,
          2015,
          2016,
          2017,
          2018
         ],
         "xaxis": "x",
         "y": [
          12.607999999999999,
          14.18,
          14.436,
          14.389000000000001,
          14.978,
          15.587,
          18.221,
          19.562,
          20.906999999999996,
          18.817999999999998,
          22.339000000000002,
          23.849,
          25.648000000000003,
          26.604,
          29.561,
          26.725,
          24.311,
          25.377,
          27.484,
          25.868000000000002,
          29.29,
          26.651999999999997,
          27.905,
          28.685,
          31.06,
          32.324,
          32.126,
          33.39,
          31.005,
          28.55,
          26.897,
          23.787,
          23.881999999999998,
          25.128,
          26.680999999999997,
          29.381999999999998,
          31.228,
          33.24,
          32.284,
          36.607,
          33.8,
          39.549,
          41.601000000000006,
          40.363,
          39.681,
          38.318000000000005,
          40.955999999999996,
          43.47,
          43.928000000000004,
          43.261,
          63.721000000000004,
          67.692,
          70.26100000000001,
          68.67399999999999,
          77.71,
          81.161,
          84.287,
          86.309,
          88.958,
          95.039,
          100.959,
          103.626,
          107.15799999999999,
          114.43299999999999,
          123.99,
          136.659,
          136.696,
          145.40200000000002,
          151.084,
          159.297,
          165.697,
          171.99099999999999,
          177.585,
          194.127,
          196.533,
          199.238,
          198.36700000000002,
          213.08599999999998,
          224.513,
          226.394,
          243.41299999999998,
          251.982,
          257.074,
          247.63299999999998,
          260.51099999999997,
          268.186,
          267.914,
          285.467,
          291.76099999999997,
          308.399,
          309.443,
          311.626,
          318.803,
          323.01,
          328.116,
          339.624,
          348.19300000000004,
          358.658,
          371.384,
          382.273,
          389.74300000000005,
          399.909,
          405.277,
          415.532,
          429.221,
          434.17900000000003,
          440.18300000000005,
          449.04900000000004,
          453.037,
          453.816,
          452.765,
          450.327,
          454.50300000000004,
          445.583,
          443.144,
          454.619,
          464.19699999999995,
          470.29400000000004,
          472.836
         ],
         "yaxis": "y"
        },
        {
         "hovertemplate": "area=South America<br>year=%{x}<br>co2=%{y}<extra></extra>",
         "legendgroup": "South America",
         "line": {
          "color": "#19d3f3",
          "dash": "solid",
          "shape": "spline"
         },
         "mode": "lines",
         "name": "South America",
         "orientation": "v",
         "showlegend": true,
         "type": "scatter",
         "x": [
          1900,
          1901,
          1902,
          1903,
          1904,
          1905,
          1906,
          1907,
          1908,
          1909,
          1910,
          1911,
          1912,
          1913,
          1914,
          1915,
          1916,
          1917,
          1918,
          1919,
          1920,
          1921,
          1922,
          1923,
          1924,
          1925,
          1926,
          1927,
          1928,
          1929,
          1930,
          1931,
          1932,
          1933,
          1934,
          1935,
          1936,
          1937,
          1938,
          1939,
          1940,
          1941,
          1942,
          1943,
          1944,
          1945,
          1946,
          1947,
          1948,
          1949,
          1950,
          1951,
          1952,
          1953,
          1954,
          1955,
          1956,
          1957,
          1958,
          1959,
          1960,
          1961,
          1962,
          1963,
          1964,
          1965,
          1966,
          1967,
          1968,
          1969,
          1970,
          1971,
          1972,
          1973,
          1974,
          1975,
          1976,
          1977,
          1978,
          1979,
          1980,
          1981,
          1982,
          1983,
          1984,
          1985,
          1986,
          1987,
          1988,
          1989,
          1990,
          1991,
          1992,
          1993,
          1994,
          1995,
          1996,
          1997,
          1998,
          1999,
          2000,
          2001,
          2002,
          2003,
          2004,
          2005,
          2006,
          2007,
          2008,
          2009,
          2010,
          2011,
          2012,
          2013,
          2014,
          2015,
          2016,
          2017,
          2018
         ],
         "xaxis": "x",
         "y": [
          3.1660000000000004,
          6.401,
          7.379,
          7.676,
          8.665,
          9.211,
          12.329,
          12.685,
          14.887,
          13.407,
          17.246,
          19.163,
          19.991,
          21.123,
          17.195,
          15.088,
          13.619000000000002,
          10.867,
          10.999,
          12.901,
          14.640999999999998,
          14.429,
          17.162,
          19.76,
          24.333000000000002,
          26.384,
          27.381,
          30.081,
          31.43,
          34.427,
          27.934,
          25.289,
          28.964000000000002,
          32.903,
          37.263000000000005,
          41.088,
          39.604,
          50.17100000000001,
          46.284,
          47.071000000000005,
          50.728,
          50.765,
          48.178000000000004,
          48.581,
          53.879,
          54.15,
          118.791,
          62.123000000000005,
          69.521,
          70.843,
          112.87299999999999,
          131.666,
          141.753,
          140.775,
          151.382,
          170.416,
          184.53400000000002,
          193.27200000000002,
          179.166,
          197.09900000000002,
          199.357,
          201.94400000000002,
          215.718,
          219.48,
          230.22799999999998,
          240.19099999999997,
          252.09400000000002,
          267.46299999999997,
          287.736,
          311.36400000000003,
          337.98199999999997,
          346.67199999999997,
          362.663,
          392.75699999999995,
          416.555,
          411.972,
          419.38300000000004,
          434.82599999999996,
          461.189,
          494.154,
          508.163,
          489.046,
          490.381,
          485.587,
          491.689,
          501.832,
          529.895,
          557.216,
          580.247,
          579.952,
          583.4540000000001,
          589.925,
          599.311,
          634,
          652.309,
          684.745,
          716.815,
          757.7589999999999,
          811.67,
          827.2710000000001,
          807.008,
          818.453,
          828.553,
          831.738,
          840.3839999999999,
          880.2510000000001,
          897.9810000000001,
          916.663,
          989.6610000000001,
          974.582,
          1059.075,
          1062.6960000000001,
          1125.393,
          1166.25,
          1198.3039999999999,
          1170.891,
          1134.385,
          1125.521,
          1112.934
         ],
         "yaxis": "y"
        },
        {
         "hovertemplate": "area=World<br>year=%{x}<br>co2=%{y}<extra></extra>",
         "legendgroup": "World",
         "line": {
          "color": "#FF6692",
          "dash": "solid",
          "shape": "spline"
         },
         "mode": "lines",
         "name": "World",
         "orientation": "v",
         "showlegend": true,
         "type": "scatter",
         "x": [
          1900,
          1901,
          1902,
          1903,
          1904,
          1905,
          1906,
          1907,
          1908,
          1909,
          1910,
          1911,
          1912,
          1913,
          1914,
          1915,
          1916,
          1917,
          1918,
          1919,
          1920,
          1921,
          1922,
          1923,
          1924,
          1925,
          1926,
          1927,
          1928,
          1929,
          1930,
          1931,
          1932,
          1933,
          1934,
          1935,
          1936,
          1937,
          1938,
          1939,
          1940,
          1941,
          1942,
          1943,
          1944,
          1945,
          1946,
          1947,
          1948,
          1949,
          1950,
          1951,
          1952,
          1953,
          1954,
          1955,
          1956,
          1957,
          1958,
          1959,
          1960,
          1961,
          1962,
          1963,
          1964,
          1965,
          1966,
          1967,
          1968,
          1969,
          1970,
          1971,
          1972,
          1973,
          1974,
          1975,
          1976,
          1977,
          1978,
          1979,
          1980,
          1981,
          1982,
          1983,
          1984,
          1985,
          1986,
          1987,
          1988,
          1989,
          1990,
          1991,
          1992,
          1993,
          1994,
          1995,
          1996,
          1997,
          1998,
          1999,
          2000,
          2001,
          2002,
          2003,
          2004,
          2005,
          2006,
          2007,
          2008,
          2009,
          2010,
          2011,
          2012,
          2013,
          2014,
          2015,
          2016,
          2017,
          2018
         ],
         "xaxis": "x",
         "y": [
          1953.308,
          2017.97,
          2069.097,
          2257.269,
          2281.225,
          2428.6679999999997,
          2550.866,
          2884.66,
          2775.704,
          2885.2940000000003,
          3026.0170000000003,
          3081.237,
          3226.72,
          3491.363,
          3168.078,
          3125.158,
          3372.324,
          3528.377,
          3480.6859999999997,
          3016.6409999999996,
          3507.613,
          3077.712,
          3227.27,
          3661.7140000000004,
          3673.2990000000004,
          3699.2259999999997,
          3641.9240000000004,
          3977.3779999999997,
          3991.1220000000003,
          4290.749,
          3965.452,
          3542.868,
          3196.2870000000003,
          3365.597,
          3661.5490000000004,
          3846.511,
          4223.6759999999995,
          4522.871,
          4264.889,
          4503.129,
          4904.008,
          5024.656,
          5039.975,
          5216.282999999999,
          5181.123,
          4333.394,
          4730.66,
          5236.563,
          5505.427,
          5244.855,
          5786.141,
          6226.396,
          6310.375,
          6486.28,
          6629.184,
          7258.204000000001,
          7725.119000000001,
          7964.755999999999,
          8215.483,
          8989.176,
          9410.53,
          9452.108,
          9838.202,
          10379.068000000001,
          10969.325,
          11466.15,
          12045.556,
          12431.008999999998,
          13063.45,
          13846.427,
          14845.815,
          15409.718,
          16023.991000000002,
          16893.361,
          16923.578999999998,
          16825.641,
          17800.971999999998,
          18355.439,
          18561.699,
          19594.229,
          19388.093999999997,
          18787.123,
          18624.076,
          18549.448,
          19216.866,
          19792.622,
          20395.95,
          20912.413,
          21681.109,
          22154.336,
          22181.807,
          22429.377,
          22195.105,
          22153.142999999996,
          22533.833,
          23007.425,
          23522.979,
          23915.328999999998,
          23984.984,
          23930.561,
          24558.691000000003,
          25138,
          25494.191000000003,
          26866.737999999998,
          28187.599,
          29254.906000000003,
          30286.836,
          30880.145,
          31875.756,
          31523.142999999996,
          33066.651,
          34357.366,
          34919.289,
          35207.886,
          35505.827000000005,
          35462.747,
          35675.099,
          36153.262,
          36572.754
         ],
         "yaxis": "y"
        }
       ],
       "layout": {
        "legend": {
         "title": {
          "text": "area"
         },
         "tracegroupgap": 0
        },
        "margin": {
         "t": 60
        },
        "template": {
         "data": {
          "bar": [
           {
            "error_x": {
             "color": "#2a3f5f"
            },
            "error_y": {
             "color": "#2a3f5f"
            },
            "marker": {
             "line": {
              "color": "#E5ECF6",
              "width": 0.5
             }
            },
            "type": "bar"
           }
          ],
          "barpolar": [
           {
            "marker": {
             "line": {
              "color": "#E5ECF6",
              "width": 0.5
             }
            },
            "type": "barpolar"
           }
          ],
          "carpet": [
           {
            "aaxis": {
             "endlinecolor": "#2a3f5f",
             "gridcolor": "white",
             "linecolor": "white",
             "minorgridcolor": "white",
             "startlinecolor": "#2a3f5f"
            },
            "baxis": {
             "endlinecolor": "#2a3f5f",
             "gridcolor": "white",
             "linecolor": "white",
             "minorgridcolor": "white",
             "startlinecolor": "#2a3f5f"
            },
            "type": "carpet"
           }
          ],
          "choropleth": [
           {
            "colorbar": {
             "outlinewidth": 0,
             "ticks": ""
            },
            "type": "choropleth"
           }
          ],
          "contour": [
           {
            "colorbar": {
             "outlinewidth": 0,
             "ticks": ""
            },
            "colorscale": [
             [
              0,
              "#0d0887"
             ],
             [
              0.1111111111111111,
              "#46039f"
             ],
             [
              0.2222222222222222,
              "#7201a8"
             ],
             [
              0.3333333333333333,
              "#9c179e"
             ],
             [
              0.4444444444444444,
              "#bd3786"
             ],
             [
              0.5555555555555556,
              "#d8576b"
             ],
             [
              0.6666666666666666,
              "#ed7953"
             ],
             [
              0.7777777777777778,
              "#fb9f3a"
             ],
             [
              0.8888888888888888,
              "#fdca26"
             ],
             [
              1,
              "#f0f921"
             ]
            ],
            "type": "contour"
           }
          ],
          "contourcarpet": [
           {
            "colorbar": {
             "outlinewidth": 0,
             "ticks": ""
            },
            "type": "contourcarpet"
           }
          ],
          "heatmap": [
           {
            "colorbar": {
             "outlinewidth": 0,
             "ticks": ""
            },
            "colorscale": [
             [
              0,
              "#0d0887"
             ],
             [
              0.1111111111111111,
              "#46039f"
             ],
             [
              0.2222222222222222,
              "#7201a8"
             ],
             [
              0.3333333333333333,
              "#9c179e"
             ],
             [
              0.4444444444444444,
              "#bd3786"
             ],
             [
              0.5555555555555556,
              "#d8576b"
             ],
             [
              0.6666666666666666,
              "#ed7953"
             ],
             [
              0.7777777777777778,
              "#fb9f3a"
             ],
             [
              0.8888888888888888,
              "#fdca26"
             ],
             [
              1,
              "#f0f921"
             ]
            ],
            "type": "heatmap"
           }
          ],
          "heatmapgl": [
           {
            "colorbar": {
             "outlinewidth": 0,
             "ticks": ""
            },
            "colorscale": [
             [
              0,
              "#0d0887"
             ],
             [
              0.1111111111111111,
              "#46039f"
             ],
             [
              0.2222222222222222,
              "#7201a8"
             ],
             [
              0.3333333333333333,
              "#9c179e"
             ],
             [
              0.4444444444444444,
              "#bd3786"
             ],
             [
              0.5555555555555556,
              "#d8576b"
             ],
             [
              0.6666666666666666,
              "#ed7953"
             ],
             [
              0.7777777777777778,
              "#fb9f3a"
             ],
             [
              0.8888888888888888,
              "#fdca26"
             ],
             [
              1,
              "#f0f921"
             ]
            ],
            "type": "heatmapgl"
           }
          ],
          "histogram": [
           {
            "marker": {
             "colorbar": {
              "outlinewidth": 0,
              "ticks": ""
             }
            },
            "type": "histogram"
           }
          ],
          "histogram2d": [
           {
            "colorbar": {
             "outlinewidth": 0,
             "ticks": ""
            },
            "colorscale": [
             [
              0,
              "#0d0887"
             ],
             [
              0.1111111111111111,
              "#46039f"
             ],
             [
              0.2222222222222222,
              "#7201a8"
             ],
             [
              0.3333333333333333,
              "#9c179e"
             ],
             [
              0.4444444444444444,
              "#bd3786"
             ],
             [
              0.5555555555555556,
              "#d8576b"
             ],
             [
              0.6666666666666666,
              "#ed7953"
             ],
             [
              0.7777777777777778,
              "#fb9f3a"
             ],
             [
              0.8888888888888888,
              "#fdca26"
             ],
             [
              1,
              "#f0f921"
             ]
            ],
            "type": "histogram2d"
           }
          ],
          "histogram2dcontour": [
           {
            "colorbar": {
             "outlinewidth": 0,
             "ticks": ""
            },
            "colorscale": [
             [
              0,
              "#0d0887"
             ],
             [
              0.1111111111111111,
              "#46039f"
             ],
             [
              0.2222222222222222,
              "#7201a8"
             ],
             [
              0.3333333333333333,
              "#9c179e"
             ],
             [
              0.4444444444444444,
              "#bd3786"
             ],
             [
              0.5555555555555556,
              "#d8576b"
             ],
             [
              0.6666666666666666,
              "#ed7953"
             ],
             [
              0.7777777777777778,
              "#fb9f3a"
             ],
             [
              0.8888888888888888,
              "#fdca26"
             ],
             [
              1,
              "#f0f921"
             ]
            ],
            "type": "histogram2dcontour"
           }
          ],
          "mesh3d": [
           {
            "colorbar": {
             "outlinewidth": 0,
             "ticks": ""
            },
            "type": "mesh3d"
           }
          ],
          "parcoords": [
           {
            "line": {
             "colorbar": {
              "outlinewidth": 0,
              "ticks": ""
             }
            },
            "type": "parcoords"
           }
          ],
          "pie": [
           {
            "automargin": true,
            "type": "pie"
           }
          ],
          "scatter": [
           {
            "marker": {
             "colorbar": {
              "outlinewidth": 0,
              "ticks": ""
             }
            },
            "type": "scatter"
           }
          ],
          "scatter3d": [
           {
            "line": {
             "colorbar": {
              "outlinewidth": 0,
              "ticks": ""
             }
            },
            "marker": {
             "colorbar": {
              "outlinewidth": 0,
              "ticks": ""
             }
            },
            "type": "scatter3d"
           }
          ],
          "scattercarpet": [
           {
            "marker": {
             "colorbar": {
              "outlinewidth": 0,
              "ticks": ""
             }
            },
            "type": "scattercarpet"
           }
          ],
          "scattergeo": [
           {
            "marker": {
             "colorbar": {
              "outlinewidth": 0,
              "ticks": ""
             }
            },
            "type": "scattergeo"
           }
          ],
          "scattergl": [
           {
            "marker": {
             "colorbar": {
              "outlinewidth": 0,
              "ticks": ""
             }
            },
            "type": "scattergl"
           }
          ],
          "scattermapbox": [
           {
            "marker": {
             "colorbar": {
              "outlinewidth": 0,
              "ticks": ""
             }
            },
            "type": "scattermapbox"
           }
          ],
          "scatterpolar": [
           {
            "marker": {
             "colorbar": {
              "outlinewidth": 0,
              "ticks": ""
             }
            },
            "type": "scatterpolar"
           }
          ],
          "scatterpolargl": [
           {
            "marker": {
             "colorbar": {
              "outlinewidth": 0,
              "ticks": ""
             }
            },
            "type": "scatterpolargl"
           }
          ],
          "scatterternary": [
           {
            "marker": {
             "colorbar": {
              "outlinewidth": 0,
              "ticks": ""
             }
            },
            "type": "scatterternary"
           }
          ],
          "surface": [
           {
            "colorbar": {
             "outlinewidth": 0,
             "ticks": ""
            },
            "colorscale": [
             [
              0,
              "#0d0887"
             ],
             [
              0.1111111111111111,
              "#46039f"
             ],
             [
              0.2222222222222222,
              "#7201a8"
             ],
             [
              0.3333333333333333,
              "#9c179e"
             ],
             [
              0.4444444444444444,
              "#bd3786"
             ],
             [
              0.5555555555555556,
              "#d8576b"
             ],
             [
              0.6666666666666666,
              "#ed7953"
             ],
             [
              0.7777777777777778,
              "#fb9f3a"
             ],
             [
              0.8888888888888888,
              "#fdca26"
             ],
             [
              1,
              "#f0f921"
             ]
            ],
            "type": "surface"
           }
          ],
          "table": [
           {
            "cells": {
             "fill": {
              "color": "#EBF0F8"
             },
             "line": {
              "color": "white"
             }
            },
            "header": {
             "fill": {
              "color": "#C8D4E3"
             },
             "line": {
              "color": "white"
             }
            },
            "type": "table"
           }
          ]
         },
         "layout": {
          "annotationdefaults": {
           "arrowcolor": "#2a3f5f",
           "arrowhead": 0,
           "arrowwidth": 1
          },
          "coloraxis": {
           "colorbar": {
            "outlinewidth": 0,
            "ticks": ""
           }
          },
          "colorscale": {
           "diverging": [
            [
             0,
             "#8e0152"
            ],
            [
             0.1,
             "#c51b7d"
            ],
            [
             0.2,
             "#de77ae"
            ],
            [
             0.3,
             "#f1b6da"
            ],
            [
             0.4,
             "#fde0ef"
            ],
            [
             0.5,
             "#f7f7f7"
            ],
            [
             0.6,
             "#e6f5d0"
            ],
            [
             0.7,
             "#b8e186"
            ],
            [
             0.8,
             "#7fbc41"
            ],
            [
             0.9,
             "#4d9221"
            ],
            [
             1,
             "#276419"
            ]
           ],
           "sequential": [
            [
             0,
             "#0d0887"
            ],
            [
             0.1111111111111111,
             "#46039f"
            ],
            [
             0.2222222222222222,
             "#7201a8"
            ],
            [
             0.3333333333333333,
             "#9c179e"
            ],
            [
             0.4444444444444444,
             "#bd3786"
            ],
            [
             0.5555555555555556,
             "#d8576b"
            ],
            [
             0.6666666666666666,
             "#ed7953"
            ],
            [
             0.7777777777777778,
             "#fb9f3a"
            ],
            [
             0.8888888888888888,
             "#fdca26"
            ],
            [
             1,
             "#f0f921"
            ]
           ],
           "sequentialminus": [
            [
             0,
             "#0d0887"
            ],
            [
             0.1111111111111111,
             "#46039f"
            ],
            [
             0.2222222222222222,
             "#7201a8"
            ],
            [
             0.3333333333333333,
             "#9c179e"
            ],
            [
             0.4444444444444444,
             "#bd3786"
            ],
            [
             0.5555555555555556,
             "#d8576b"
            ],
            [
             0.6666666666666666,
             "#ed7953"
            ],
            [
             0.7777777777777778,
             "#fb9f3a"
            ],
            [
             0.8888888888888888,
             "#fdca26"
            ],
            [
             1,
             "#f0f921"
            ]
           ]
          },
          "colorway": [
           "#636efa",
           "#EF553B",
           "#00cc96",
           "#ab63fa",
           "#FFA15A",
           "#19d3f3",
           "#FF6692",
           "#B6E880",
           "#FF97FF",
           "#FECB52"
          ],
          "font": {
           "color": "#2a3f5f"
          },
          "geo": {
           "bgcolor": "white",
           "lakecolor": "white",
           "landcolor": "#E5ECF6",
           "showlakes": true,
           "showland": true,
           "subunitcolor": "white"
          },
          "hoverlabel": {
           "align": "left"
          },
          "hovermode": "closest",
          "mapbox": {
           "style": "light"
          },
          "paper_bgcolor": "white",
          "plot_bgcolor": "#E5ECF6",
          "polar": {
           "angularaxis": {
            "gridcolor": "white",
            "linecolor": "white",
            "ticks": ""
           },
           "bgcolor": "#E5ECF6",
           "radialaxis": {
            "gridcolor": "white",
            "linecolor": "white",
            "ticks": ""
           }
          },
          "scene": {
           "xaxis": {
            "backgroundcolor": "#E5ECF6",
            "gridcolor": "white",
            "gridwidth": 2,
            "linecolor": "white",
            "showbackground": true,
            "ticks": "",
            "zerolinecolor": "white"
           },
           "yaxis": {
            "backgroundcolor": "#E5ECF6",
            "gridcolor": "white",
            "gridwidth": 2,
            "linecolor": "white",
            "showbackground": true,
            "ticks": "",
            "zerolinecolor": "white"
           },
           "zaxis": {
            "backgroundcolor": "#E5ECF6",
            "gridcolor": "white",
            "gridwidth": 2,
            "linecolor": "white",
            "showbackground": true,
            "ticks": "",
            "zerolinecolor": "white"
           }
          },
          "shapedefaults": {
           "line": {
            "color": "#2a3f5f"
           }
          },
          "ternary": {
           "aaxis": {
            "gridcolor": "white",
            "linecolor": "white",
            "ticks": ""
           },
           "baxis": {
            "gridcolor": "white",
            "linecolor": "white",
            "ticks": ""
           },
           "bgcolor": "#E5ECF6",
           "caxis": {
            "gridcolor": "white",
            "linecolor": "white",
            "ticks": ""
           }
          },
          "title": {
           "x": 0.05
          },
          "xaxis": {
           "automargin": true,
           "gridcolor": "white",
           "linecolor": "white",
           "ticks": "",
           "title": {
            "standoff": 15
           },
           "zerolinecolor": "white",
           "zerolinewidth": 2
          },
          "yaxis": {
           "automargin": true,
           "gridcolor": "white",
           "linecolor": "white",
           "ticks": "",
           "title": {
            "standoff": 15
           },
           "zerolinecolor": "white",
           "zerolinewidth": 2
          }
         }
        },
        "title": {
         "text": "The amount of CO<sub>2</sub> Emission of Each Continent"
        },
        "xaxis": {
         "anchor": "y",
         "domain": [
          0,
          1
         ],
         "title": {
          "text": "Year"
         }
        },
        "yaxis": {
         "anchor": "x",
         "domain": [
          0,
          1
         ],
         "title": {
          "text": "Annual CO<sub>2</sub> Emission, Million Tonnes per Year"
         }
        }
       }
      }
     },
     "metadata": {}
    }
   ],
   "source": [
    "from read_co2 import fig_co2_continent\n",
    "fig = fig_co2_continent()\n",
    "fig.show()"
   ]
  },
  {
   "cell_type": "code",
   "execution_count": 5,
   "metadata": {},
   "outputs": [
    {
     "output_type": "display_data",
     "data": {
      "application/vnd.plotly.v1+json": {
       "config": {
        "plotlyServerURL": "https://plot.ly"
       },
       "data": [
        {
         "hovertemplate": "year=%{x}<br>co2=%{y}<extra></extra>",
         "legendgroup": "",
         "line": {
          "color": "#636efa",
          "dash": "solid",
          "shape": "spline"
         },
         "mode": "lines",
         "name": "",
         "orientation": "v",
         "showlegend": false,
         "type": "scatter",
         "x": [
          1959,
          1960,
          1961,
          1962,
          1963,
          1964,
          1965,
          1966,
          1967,
          1968,
          1969,
          1970,
          1971,
          1972,
          1973,
          1974,
          1975,
          1976,
          1977,
          1978,
          1979,
          1980,
          1981,
          1982,
          1983,
          1984,
          1985,
          1986,
          1987,
          1988,
          1989,
          1990,
          1991,
          1992,
          1993,
          1994,
          1995,
          1996,
          1997,
          1998,
          1999,
          2000,
          2001,
          2002,
          2003,
          2004,
          2005,
          2006,
          2007,
          2008,
          2009,
          2010,
          2011,
          2012,
          2013,
          2014,
          2015,
          2016,
          2017,
          2018
         ],
         "xaxis": "x",
         "y": [
          213.36900000000003,
          238.24099999999999,
          263.24,
          272.613,
          285.13599999999997,
          312.103,
          322.619,
          349.04699999999997,
          373.56300000000005,
          394.825,
          413.413,
          437.225,
          461.07,
          492.339,
          527.539,
          489.38199999999995,
          448.43699999999995,
          439.79400000000004,
          450.32800000000003,
          456.56699999999995,
          458.48400000000004,
          447.045,
          412.885,
          374.153,
          358.885,
          360.274,
          368.11800000000005,
          394.005,
          530.184,
          547.933,
          565.388,
          559.455,
          542.224,
          548.194,
          556.7040000000001,
          580.619,
          613.148,
          666.3839999999999,
          701.275,
          743.8689999999999,
          768.4839999999999,
          778.148,
          773.8430000000001,
          791.8689999999999,
          825.945,
          897.955,
          935.0089999999999,
          988.1519999999999,
          1045.107,
          1060.719,
          1014.547,
          1074.9260000000002,
          1103.893,
          1095.136,
          1112.229,
          1120.947,
          1159.614,
          1205.042,
          1225.503,
          1239.734
         ],
         "yaxis": "y"
        }
       ],
       "layout": {
        "legend": {
         "tracegroupgap": 0
        },
        "margin": {
         "t": 60
        },
        "template": {
         "data": {
          "bar": [
           {
            "error_x": {
             "color": "#2a3f5f"
            },
            "error_y": {
             "color": "#2a3f5f"
            },
            "marker": {
             "line": {
              "color": "#E5ECF6",
              "width": 0.5
             }
            },
            "type": "bar"
           }
          ],
          "barpolar": [
           {
            "marker": {
             "line": {
              "color": "#E5ECF6",
              "width": 0.5
             }
            },
            "type": "barpolar"
           }
          ],
          "carpet": [
           {
            "aaxis": {
             "endlinecolor": "#2a3f5f",
             "gridcolor": "white",
             "linecolor": "white",
             "minorgridcolor": "white",
             "startlinecolor": "#2a3f5f"
            },
            "baxis": {
             "endlinecolor": "#2a3f5f",
             "gridcolor": "white",
             "linecolor": "white",
             "minorgridcolor": "white",
             "startlinecolor": "#2a3f5f"
            },
            "type": "carpet"
           }
          ],
          "choropleth": [
           {
            "colorbar": {
             "outlinewidth": 0,
             "ticks": ""
            },
            "type": "choropleth"
           }
          ],
          "contour": [
           {
            "colorbar": {
             "outlinewidth": 0,
             "ticks": ""
            },
            "colorscale": [
             [
              0,
              "#0d0887"
             ],
             [
              0.1111111111111111,
              "#46039f"
             ],
             [
              0.2222222222222222,
              "#7201a8"
             ],
             [
              0.3333333333333333,
              "#9c179e"
             ],
             [
              0.4444444444444444,
              "#bd3786"
             ],
             [
              0.5555555555555556,
              "#d8576b"
             ],
             [
              0.6666666666666666,
              "#ed7953"
             ],
             [
              0.7777777777777778,
              "#fb9f3a"
             ],
             [
              0.8888888888888888,
              "#fdca26"
             ],
             [
              1,
              "#f0f921"
             ]
            ],
            "type": "contour"
           }
          ],
          "contourcarpet": [
           {
            "colorbar": {
             "outlinewidth": 0,
             "ticks": ""
            },
            "type": "contourcarpet"
           }
          ],
          "heatmap": [
           {
            "colorbar": {
             "outlinewidth": 0,
             "ticks": ""
            },
            "colorscale": [
             [
              0,
              "#0d0887"
             ],
             [
              0.1111111111111111,
              "#46039f"
             ],
             [
              0.2222222222222222,
              "#7201a8"
             ],
             [
              0.3333333333333333,
              "#9c179e"
             ],
             [
              0.4444444444444444,
              "#bd3786"
             ],
             [
              0.5555555555555556,
              "#d8576b"
             ],
             [
              0.6666666666666666,
              "#ed7953"
             ],
             [
              0.7777777777777778,
              "#fb9f3a"
             ],
             [
              0.8888888888888888,
              "#fdca26"
             ],
             [
              1,
              "#f0f921"
             ]
            ],
            "type": "heatmap"
           }
          ],
          "heatmapgl": [
           {
            "colorbar": {
             "outlinewidth": 0,
             "ticks": ""
            },
            "colorscale": [
             [
              0,
              "#0d0887"
             ],
             [
              0.1111111111111111,
              "#46039f"
             ],
             [
              0.2222222222222222,
              "#7201a8"
             ],
             [
              0.3333333333333333,
              "#9c179e"
             ],
             [
              0.4444444444444444,
              "#bd3786"
             ],
             [
              0.5555555555555556,
              "#d8576b"
             ],
             [
              0.6666666666666666,
              "#ed7953"
             ],
             [
              0.7777777777777778,
              "#fb9f3a"
             ],
             [
              0.8888888888888888,
              "#fdca26"
             ],
             [
              1,
              "#f0f921"
             ]
            ],
            "type": "heatmapgl"
           }
          ],
          "histogram": [
           {
            "marker": {
             "colorbar": {
              "outlinewidth": 0,
              "ticks": ""
             }
            },
            "type": "histogram"
           }
          ],
          "histogram2d": [
           {
            "colorbar": {
             "outlinewidth": 0,
             "ticks": ""
            },
            "colorscale": [
             [
              0,
              "#0d0887"
             ],
             [
              0.1111111111111111,
              "#46039f"
             ],
             [
              0.2222222222222222,
              "#7201a8"
             ],
             [
              0.3333333333333333,
              "#9c179e"
             ],
             [
              0.4444444444444444,
              "#bd3786"
             ],
             [
              0.5555555555555556,
              "#d8576b"
             ],
             [
              0.6666666666666666,
              "#ed7953"
             ],
             [
              0.7777777777777778,
              "#fb9f3a"
             ],
             [
              0.8888888888888888,
              "#fdca26"
             ],
             [
              1,
              "#f0f921"
             ]
            ],
            "type": "histogram2d"
           }
          ],
          "histogram2dcontour": [
           {
            "colorbar": {
             "outlinewidth": 0,
             "ticks": ""
            },
            "colorscale": [
             [
              0,
              "#0d0887"
             ],
             [
              0.1111111111111111,
              "#46039f"
             ],
             [
              0.2222222222222222,
              "#7201a8"
             ],
             [
              0.3333333333333333,
              "#9c179e"
             ],
             [
              0.4444444444444444,
              "#bd3786"
             ],
             [
              0.5555555555555556,
              "#d8576b"
             ],
             [
              0.6666666666666666,
              "#ed7953"
             ],
             [
              0.7777777777777778,
              "#fb9f3a"
             ],
             [
              0.8888888888888888,
              "#fdca26"
             ],
             [
              1,
              "#f0f921"
             ]
            ],
            "type": "histogram2dcontour"
           }
          ],
          "mesh3d": [
           {
            "colorbar": {
             "outlinewidth": 0,
             "ticks": ""
            },
            "type": "mesh3d"
           }
          ],
          "parcoords": [
           {
            "line": {
             "colorbar": {
              "outlinewidth": 0,
              "ticks": ""
             }
            },
            "type": "parcoords"
           }
          ],
          "pie": [
           {
            "automargin": true,
            "type": "pie"
           }
          ],
          "scatter": [
           {
            "marker": {
             "colorbar": {
              "outlinewidth": 0,
              "ticks": ""
             }
            },
            "type": "scatter"
           }
          ],
          "scatter3d": [
           {
            "line": {
             "colorbar": {
              "outlinewidth": 0,
              "ticks": ""
             }
            },
            "marker": {
             "colorbar": {
              "outlinewidth": 0,
              "ticks": ""
             }
            },
            "type": "scatter3d"
           }
          ],
          "scattercarpet": [
           {
            "marker": {
             "colorbar": {
              "outlinewidth": 0,
              "ticks": ""
             }
            },
            "type": "scattercarpet"
           }
          ],
          "scattergeo": [
           {
            "marker": {
             "colorbar": {
              "outlinewidth": 0,
              "ticks": ""
             }
            },
            "type": "scattergeo"
           }
          ],
          "scattergl": [
           {
            "marker": {
             "colorbar": {
              "outlinewidth": 0,
              "ticks": ""
             }
            },
            "type": "scattergl"
           }
          ],
          "scattermapbox": [
           {
            "marker": {
             "colorbar": {
              "outlinewidth": 0,
              "ticks": ""
             }
            },
            "type": "scattermapbox"
           }
          ],
          "scatterpolar": [
           {
            "marker": {
             "colorbar": {
              "outlinewidth": 0,
              "ticks": ""
             }
            },
            "type": "scatterpolar"
           }
          ],
          "scatterpolargl": [
           {
            "marker": {
             "colorbar": {
              "outlinewidth": 0,
              "ticks": ""
             }
            },
            "type": "scatterpolargl"
           }
          ],
          "scatterternary": [
           {
            "marker": {
             "colorbar": {
              "outlinewidth": 0,
              "ticks": ""
             }
            },
            "type": "scatterternary"
           }
          ],
          "surface": [
           {
            "colorbar": {
             "outlinewidth": 0,
             "ticks": ""
            },
            "colorscale": [
             [
              0,
              "#0d0887"
             ],
             [
              0.1111111111111111,
              "#46039f"
             ],
             [
              0.2222222222222222,
              "#7201a8"
             ],
             [
              0.3333333333333333,
              "#9c179e"
             ],
             [
              0.4444444444444444,
              "#bd3786"
             ],
             [
              0.5555555555555556,
              "#d8576b"
             ],
             [
              0.6666666666666666,
              "#ed7953"
             ],
             [
              0.7777777777777778,
              "#fb9f3a"
             ],
             [
              0.8888888888888888,
              "#fdca26"
             ],
             [
              1,
              "#f0f921"
             ]
            ],
            "type": "surface"
           }
          ],
          "table": [
           {
            "cells": {
             "fill": {
              "color": "#EBF0F8"
             },
             "line": {
              "color": "white"
             }
            },
            "header": {
             "fill": {
              "color": "#C8D4E3"
             },
             "line": {
              "color": "white"
             }
            },
            "type": "table"
           }
          ]
         },
         "layout": {
          "annotationdefaults": {
           "arrowcolor": "#2a3f5f",
           "arrowhead": 0,
           "arrowwidth": 1
          },
          "coloraxis": {
           "colorbar": {
            "outlinewidth": 0,
            "ticks": ""
           }
          },
          "colorscale": {
           "diverging": [
            [
             0,
             "#8e0152"
            ],
            [
             0.1,
             "#c51b7d"
            ],
            [
             0.2,
             "#de77ae"
            ],
            [
             0.3,
             "#f1b6da"
            ],
            [
             0.4,
             "#fde0ef"
            ],
            [
             0.5,
             "#f7f7f7"
            ],
            [
             0.6,
             "#e6f5d0"
            ],
            [
             0.7,
             "#b8e186"
            ],
            [
             0.8,
             "#7fbc41"
            ],
            [
             0.9,
             "#4d9221"
            ],
            [
             1,
             "#276419"
            ]
           ],
           "sequential": [
            [
             0,
             "#0d0887"
            ],
            [
             0.1111111111111111,
             "#46039f"
            ],
            [
             0.2222222222222222,
             "#7201a8"
            ],
            [
             0.3333333333333333,
             "#9c179e"
            ],
            [
             0.4444444444444444,
             "#bd3786"
            ],
            [
             0.5555555555555556,
             "#d8576b"
            ],
            [
             0.6666666666666666,
             "#ed7953"
            ],
            [
             0.7777777777777778,
             "#fb9f3a"
            ],
            [
             0.8888888888888888,
             "#fdca26"
            ],
            [
             1,
             "#f0f921"
            ]
           ],
           "sequentialminus": [
            [
             0,
             "#0d0887"
            ],
            [
             0.1111111111111111,
             "#46039f"
            ],
            [
             0.2222222222222222,
             "#7201a8"
            ],
            [
             0.3333333333333333,
             "#9c179e"
            ],
            [
             0.4444444444444444,
             "#bd3786"
            ],
            [
             0.5555555555555556,
             "#d8576b"
            ],
            [
             0.6666666666666666,
             "#ed7953"
            ],
            [
             0.7777777777777778,
             "#fb9f3a"
            ],
            [
             0.8888888888888888,
             "#fdca26"
            ],
            [
             1,
             "#f0f921"
            ]
           ]
          },
          "colorway": [
           "#636efa",
           "#EF553B",
           "#00cc96",
           "#ab63fa",
           "#FFA15A",
           "#19d3f3",
           "#FF6692",
           "#B6E880",
           "#FF97FF",
           "#FECB52"
          ],
          "font": {
           "color": "#2a3f5f"
          },
          "geo": {
           "bgcolor": "white",
           "lakecolor": "white",
           "landcolor": "#E5ECF6",
           "showlakes": true,
           "showland": true,
           "subunitcolor": "white"
          },
          "hoverlabel": {
           "align": "left"
          },
          "hovermode": "closest",
          "mapbox": {
           "style": "light"
          },
          "paper_bgcolor": "white",
          "plot_bgcolor": "#E5ECF6",
          "polar": {
           "angularaxis": {
            "gridcolor": "white",
            "linecolor": "white",
            "ticks": ""
           },
           "bgcolor": "#E5ECF6",
           "radialaxis": {
            "gridcolor": "white",
            "linecolor": "white",
            "ticks": ""
           }
          },
          "scene": {
           "xaxis": {
            "backgroundcolor": "#E5ECF6",
            "gridcolor": "white",
            "gridwidth": 2,
            "linecolor": "white",
            "showbackground": true,
            "ticks": "",
            "zerolinecolor": "white"
           },
           "yaxis": {
            "backgroundcolor": "#E5ECF6",
            "gridcolor": "white",
            "gridwidth": 2,
            "linecolor": "white",
            "showbackground": true,
            "ticks": "",
            "zerolinecolor": "white"
           },
           "zaxis": {
            "backgroundcolor": "#E5ECF6",
            "gridcolor": "white",
            "gridwidth": 2,
            "linecolor": "white",
            "showbackground": true,
            "ticks": "",
            "zerolinecolor": "white"
           }
          },
          "shapedefaults": {
           "line": {
            "color": "#2a3f5f"
           }
          },
          "ternary": {
           "aaxis": {
            "gridcolor": "white",
            "linecolor": "white",
            "ticks": ""
           },
           "baxis": {
            "gridcolor": "white",
            "linecolor": "white",
            "ticks": ""
           },
           "bgcolor": "#E5ECF6",
           "caxis": {
            "gridcolor": "white",
            "linecolor": "white",
            "ticks": ""
           }
          },
          "title": {
           "x": 0.05
          },
          "xaxis": {
           "automargin": true,
           "gridcolor": "white",
           "linecolor": "white",
           "ticks": "",
           "title": {
            "standoff": 15
           },
           "zerolinecolor": "white",
           "zerolinewidth": 2
          },
          "yaxis": {
           "automargin": true,
           "gridcolor": "white",
           "linecolor": "white",
           "ticks": "",
           "title": {
            "standoff": 15
           },
           "zerolinecolor": "white",
           "zerolinewidth": 2
          }
         }
        },
        "title": {
         "text": "The amount of CO<sub>2</sub> Emission of Internatioanl Transportation"
        },
        "xaxis": {
         "anchor": "y",
         "domain": [
          0,
          1
         ],
         "title": {
          "text": "Year"
         }
        },
        "yaxis": {
         "anchor": "x",
         "domain": [
          0,
          1
         ],
         "title": {
          "text": "Annual CO<sub>2</sub> Emission, Million Tonnes per Year"
         }
        }
       }
      }
     },
     "metadata": {}
    }
   ],
   "source": [
    "from read_co2 import fig_co2_trans\n",
    "fig = fig_co2_trans()\n",
    "fig.show()"
   ]
  },
  {
   "cell_type": "code",
   "execution_count": 6,
   "metadata": {},
   "outputs": [
    {
     "output_type": "display_data",
     "data": {
      "application/vnd.plotly.v1+json": {
       "config": {
        "plotlyServerURL": "https://plot.ly"
       },
       "data": [
        {
         "branchvalues": "total",
         "customdata": [
          [
           "AFG",
           9.439
          ],
          [
           "ALB",
           4.57
          ],
          [
           "DZA",
           155.725
          ],
          [
           "AND",
           0.47100000000000003
          ],
          [
           "AGO",
           34.537
          ],
          [
           "AIA",
           0.156
          ],
          [
           "ATG",
           0.5660000000000001
          ],
          [
           "ARG",
           195.53099999999998
          ],
          [
           "ARM",
           5.571000000000001
          ],
          [
           "ABW",
           0.897
          ],
          [
           "AUS",
           420.221
          ],
          [
           "AUT",
           68.87
          ],
          [
           "AZE",
           36.788000000000004
          ],
          [
           "BHS",
           1.8130000000000002
          ],
          [
           "BHR",
           31.059
          ],
          [
           "BGD",
           85.693
          ],
          [
           "BRB",
           1.2830000000000001
          ],
          [
           "BLR",
           65.456
          ],
          [
           "BEL",
           99.665
          ],
          [
           "BLZ",
           0.574
          ],
          [
           "BEN",
           7.149
          ],
          [
           "BMU",
           0.622
          ],
          [
           "BTN",
           1.214
          ],
          [
           "BOL",
           22.261999999999997
          ],
          [
           "BES",
           0.335
          ],
          [
           "BIH",
           21.671999999999997
          ],
          [
           "BWA",
           6.666
          ],
          [
           "BRA",
           457.19
          ],
          [
           "VGB",
           0.21600000000000003
          ],
          [
           "BRN",
           7.93
          ],
          [
           "BGR",
           44.511
          ],
          [
           "BFA",
           3.8989999999999996
          ],
          [
           "BDI",
           0.522
          ],
          [
           "KHM",
           10.395999999999999
          ],
          [
           "CMR",
           8.137
          ],
          [
           "CAN",
           568.4119999999999
          ],
          [
           "CPV",
           0.628
          ],
          [
           "CAF",
           0.304
          ],
          [
           "TCD",
           1.014
          ],
          [
           "CHL",
           85.87700000000001
          ],
          [
           "CHN",
           10064.686
          ],
          [
           "COL",
           97.26899999999999
          ],
          [
           "COM",
           0.218
          ],
          [
           "COG",
           3.2310000000000003
          ],
          [
           "COK",
           0.066
          ],
          [
           "CRI",
           8.059
          ],
          [
           "CIV",
           8.391
          ],
          [
           "HRV",
           18.6
          ],
          [
           "CUB",
           28.616999999999997
          ],
          [
           "CUW",
           5.482
          ],
          [
           "CYP",
           7.4910000000000005
          ],
          [
           "CZE",
           105.945
          ],
          [
           "COD",
           2.037
          ],
          [
           "DNK",
           34.81
          ],
          [
           "DJI",
           0.644
          ],
          [
           "DMA",
           0.182
          ],
          [
           "DOM",
           24.857
          ],
          [
           "ECU",
           41.915
          ],
          [
           "EGY",
           238.81599999999997
          ],
          [
           "SLV",
           7.13
          ],
          [
           "GNQ",
           5.687000000000001
          ],
          [
           "ERI",
           0.74
          ],
          [
           "EST",
           19.559
          ],
          [
           "ETH",
           14.935
          ],
          [
           "FRO",
           0.633
          ],
          [
           "FJI",
           2.125
          ],
          [
           "FIN",
           46.989000000000004
          ],
          [
           "FRA",
           337.913
          ],
          [
           "PYF",
           0.8119999999999999
          ],
          [
           "GAB",
           5.358
          ],
          [
           "GMB",
           0.611
          ],
          [
           "GEO",
           10.56
          ],
          [
           "DEU",
           759.0019999999998
          ],
          [
           "GHA",
           18.298
          ],
          [
           "GRC",
           73.887
          ],
          [
           "GRL",
           0.511
          ],
          [
           "GRD",
           0.271
          ],
          [
           "GTM",
           18.365
          ],
          [
           "GIN",
           3.179
          ],
          [
           "GNB",
           0.34
          ],
          [
           "GUY",
           2.431
          ],
          [
           "HTI",
           2.998999999999999
          ],
          [
           "HND",
           9.915
          ],
          [
           "HKG",
           43.144
          ],
          [
           "HUN",
           49.857
          ],
          [
           "ISL",
           3.6310000000000002
          ],
          [
           "IND",
           2654.1009999999997
          ],
          [
           "IDN",
           614.9159999999999
          ],
          [
           "IRN",
           720.414
          ],
          [
           "IRQ",
           204.17500000000004
          ],
          [
           "IRL",
           38.931
          ],
          [
           "ISR",
           64.264
          ],
          [
           "ITA",
           338.027
          ],
          [
           "JAM",
           8.191
          ],
          [
           "JPN",
           1161.981
          ],
          [
           "JOR",
           24.086
          ],
          [
           "KAZ",
           321.78700000000003
          ],
          [
           "KEN",
           18.486
          ],
          [
           "KIR",
           0.07
          ],
          [
           "KWT",
           98.06200000000001
          ],
          [
           "KGZ",
           10.081
          ],
          [
           "LAO",
           19.32
          ],
          [
           "LVA",
           7.190999999999999
          ],
          [
           "LBN",
           24.226999999999997
          ],
          [
           "LSO",
           2.659
          ],
          [
           "LBR",
           1.558
          ],
          [
           "LBY",
           54.01600000000001
          ],
          [
           "LIE",
           0.153
          ],
          [
           "LTU",
           13.554
          ],
          [
           "LUX",
           9.582
          ],
          [
           "MKD",
           7.268
          ],
          [
           "MDG",
           4.281000000000001
          ],
          [
           "MWI",
           1.381
          ],
          [
           "MYS",
           254.52700000000002
          ],
          [
           "MDV",
           1.5230000000000004
          ],
          [
           "MLI",
           3.56
          ],
          [
           "MLT",
           1.5830000000000002
          ],
          [
           "MHL",
           0.151
          ],
          [
           "MRT",
           2.661
          ],
          [
           "MUS",
           4.855
          ],
          [
           "MEX",
           477.32199999999995
          ],
          [
           "MDA",
           5.127000000000001
          ],
          [
           "MNG",
           28.113000000000003
          ],
          [
           "MNE",
           2.008
          ],
          [
           "MSR",
           0.03
          ],
          [
           "MAR",
           66.31
          ],
          [
           "MOZ",
           8.286
          ],
          [
           "MMR",
           26.335
          ],
          [
           "NAM",
           4.272
          ],
          [
           "NRU",
           0.05000000000000001
          ],
          [
           "NPL",
           9.448
          ],
          [
           "NLD",
           161.624
          ],
          [
           "NCL",
           5.757000000000001
          ],
          [
           "NZL",
           34.766
          ],
          [
           "NIC",
           5.571000000000001
          ],
          [
           "NER",
           2.319
          ],
          [
           "NGA",
           127.294
          ],
          [
           "NIU",
           0.008
          ],
          [
           "PRK",
           30.219
          ],
          [
           "NOR",
           44.326
          ],
          [
           "OMN",
           67.291
          ],
          [
           "PAK",
           223.54
          ],
          [
           "PLW",
           0.23600000000000002
          ],
          [
           "PSE",
           3.21
          ],
          [
           "PAN",
           10.937999999999999
          ],
          [
           "PNG",
           7.837999999999999
          ],
          [
           "PRY",
           7.431
          ],
          [
           "PER",
           55.531
          ],
          [
           "PHL",
           135.069
          ],
          [
           "POL",
           343.538
          ],
          [
           "PRT",
           50.925
          ],
          [
           "QAT",
           105.62299999999998
          ],
          [
           "ROU",
           74.061
          ],
          [
           "RUS",
           1710.6879999999999
          ],
          [
           "RWA",
           1.122
          ],
          [
           "SHN",
           0.011000000000000001
          ],
          [
           "KNA",
           0.242
          ],
          [
           "LCA",
           0.42100000000000004
          ],
          [
           "SPM",
           0.078
          ],
          [
           "VCT",
           0.223
          ],
          [
           "WSM",
           0.259
          ],
          [
           "STP",
           0.124
          ],
          [
           "SAU",
           621.302
          ],
          [
           "SEN",
           11.710999999999997
          ],
          [
           "SRB",
           45.444
          ],
          [
           "SYC",
           0.655
          ],
          [
           "SLE",
           1.078
          ],
          [
           "SGP",
           40.861999999999995
          ],
          [
           "SXM",
           0.774
          ],
          [
           "SVK",
           36.028
          ],
          [
           "SVN",
           14.432
          ],
          [
           "SLB",
           0.178
          ],
          [
           "SOM",
           0.6990000000000001
          ],
          [
           "ZAF",
           467.56199999999995
          ],
          [
           "KOR",
           658.788
          ],
          [
           "SSD",
           1.87
          ],
          [
           "ESP",
           268.23400000000004
          ],
          [
           "LKA",
           23.368
          ],
          [
           "SDN",
           21.046
          ],
          [
           "SUR",
           1.787
          ],
          [
           "SWZ",
           1.199
          ],
          [
           "SWE",
           41.027
          ],
          [
           "CHE",
           36.873000000000005
          ],
          [
           "SYR",
           28.276999999999997
          ],
          [
           "TWN",
           274.643
          ],
          [
           "TJK",
           5.485
          ],
          [
           "TZA",
           12.499
          ],
          [
           "THA",
           288.22900000000004
          ],
          [
           "TLS",
           0.522
          ],
          [
           "TGO",
           3.418
          ],
          [
           "TON",
           0.135
          ],
          [
           "TTO",
           43.477
          ],
          [
           "TUN",
           31.576999999999998
          ],
          [
           "TUR",
           428.18
          ],
          [
           "TKM",
           79.89399999999999
          ],
          [
           "TCA",
           0.22
          ],
          [
           "TUV",
           0.012
          ],
          [
           "UGA",
           5.771
          ],
          [
           "UKR",
           225.018
          ],
          [
           "ARE",
           205.602
          ],
          [
           "GBR",
           379.04
          ],
          [
           "USA",
           5416.278
          ],
          [
           "URY",
           6.944
          ],
          [
           "UZB",
           91.26500000000001
          ],
          [
           "VUT",
           0.155
          ],
          [
           "VEN",
           138.765
          ],
          [
           "VNM",
           206.66099999999997
          ],
          [
           "WLF",
           0.027000000000000003
          ],
          [
           "YEM",
           10.141
          ],
          [
           "ZMB",
           5.228
          ],
          [
           "ZWE",
           12.263
          ],
          [
           "(?)",
           234.12762356719588
          ],
          [
           "(?)",
           5282.3961795164705
          ],
          [
           "(?)",
           327.7601106977245
          ],
          [
           "(?)",
           4498.2720708555435
          ],
          [
           "(?)",
           376.2045654878971
          ],
          [
           "(?)",
           259.4905610966698
          ]
         ],
         "domain": {
          "x": [
           0,
           1
          ],
          "y": [
           0,
           1
          ]
         },
         "hovertemplate": "labels=%{label}<br>co2_sum=%{value}<br>parent=%{parent}<br>id=%{id}<br>iso_code=%{customdata[0]}<br>co2=%{color}<extra></extra>",
         "ids": [
          "Asia/Afghanistan",
          "Europe/Albania",
          "Africa/Algeria",
          "Europe/Andorra",
          "Africa/Angola",
          "North America/Anguilla",
          "North America/Antigua and Barbuda",
          "South America/Argentina",
          "Asia/Armenia",
          "North America/Aruba",
          "Oceania/Australia",
          "Europe/Austria",
          "Asia/Azerbaijan",
          "North America/Bahamas",
          "Asia/Bahrain",
          "Asia/Bangladesh",
          "North America/Barbados",
          "Europe/Belarus",
          "Europe/Belgium",
          "North America/Belize",
          "Africa/Benin",
          "North America/Bermuda",
          "Asia/Bhutan",
          "South America/Bolivia",
          "North America/Bonaire Sint Eustatius and Saba",
          "Europe/Bosnia and Herzegovina",
          "Africa/Botswana",
          "South America/Brazil",
          "North America/British Virgin Islands",
          "Asia/Brunei",
          "Europe/Bulgaria",
          "Africa/Burkina Faso",
          "Africa/Burundi",
          "Asia/Cambodia",
          "Africa/Cameroon",
          "North America/Canada",
          "Africa/Cape Verde",
          "Africa/Central African Republic",
          "Africa/Chad",
          "South America/Chile",
          "Asia/China",
          "South America/Colombia",
          "Africa/Comoros",
          "Africa/Congo",
          "Oceania/Cook Islands",
          "North America/Costa Rica",
          "Africa/Cote d'Ivoire",
          "Europe/Croatia",
          "North America/Cuba",
          "North America/Curacao",
          "Asia/Cyprus",
          "Europe/Czech Republic",
          "Africa/Democratic Republic of Congo",
          "Europe/Denmark",
          "Africa/Djibouti",
          "North America/Dominica",
          "North America/Dominican Republic",
          "South America/Ecuador",
          "Africa/Egypt",
          "North America/El Salvador",
          "Africa/Equatorial Guinea",
          "Africa/Eritrea",
          "Europe/Estonia",
          "Africa/Ethiopia",
          "Europe/Faeroe Islands",
          "Oceania/Fiji",
          "Europe/Finland",
          "Europe/France",
          "Oceania/French Polynesia",
          "Africa/Gabon",
          "Africa/Gambia",
          "Asia/Georgia",
          "Europe/Germany",
          "Africa/Ghana",
          "Europe/Greece",
          "North America/Greenland",
          "North America/Grenada",
          "North America/Guatemala",
          "Africa/Guinea",
          "Africa/Guinea-Bissau",
          "South America/Guyana",
          "North America/Haiti",
          "North America/Honduras",
          "Asia/Hong Kong",
          "Europe/Hungary",
          "Europe/Iceland",
          "Asia/India",
          "Asia/Indonesia",
          "Asia/Iran",
          "Asia/Iraq",
          "Europe/Ireland",
          "Asia/Israel",
          "Europe/Italy",
          "North America/Jamaica",
          "Asia/Japan",
          "Asia/Jordan",
          "Asia/Kazakhstan",
          "Africa/Kenya",
          "Oceania/Kiribati",
          "Asia/Kuwait",
          "Asia/Kyrgyzstan",
          "Asia/Laos",
          "Europe/Latvia",
          "Asia/Lebanon",
          "Africa/Lesotho",
          "Africa/Liberia",
          "Africa/Libya",
          "Europe/Liechtenstein",
          "Europe/Lithuania",
          "Europe/Luxembourg",
          "Europe/Macedonia",
          "Africa/Madagascar",
          "Africa/Malawi",
          "Asia/Malaysia",
          "Asia/Maldives",
          "Africa/Mali",
          "Europe/Malta",
          "Oceania/Marshall Islands",
          "Africa/Mauritania",
          "Africa/Mauritius",
          "North America/Mexico",
          "Europe/Moldova",
          "Asia/Mongolia",
          "Europe/Montenegro",
          "North America/Montserrat",
          "Africa/Morocco",
          "Africa/Mozambique",
          "Asia/Myanmar",
          "Africa/Namibia",
          "Oceania/Nauru",
          "Asia/Nepal",
          "Europe/Netherlands",
          "Oceania/New Caledonia",
          "Oceania/New Zealand",
          "North America/Nicaragua",
          "Africa/Niger",
          "Africa/Nigeria",
          "Oceania/Niue",
          "Asia/North Korea",
          "Europe/Norway",
          "Asia/Oman",
          "Asia/Pakistan",
          "Oceania/Palau",
          "Asia/Palestine",
          "North America/Panama",
          "Oceania/Papua New Guinea",
          "South America/Paraguay",
          "South America/Peru",
          "Asia/Philippines",
          "Europe/Poland",
          "Europe/Portugal",
          "Asia/Qatar",
          "Europe/Romania",
          "Asia/Russia",
          "Africa/Rwanda",
          "Africa/Saint Helena",
          "North America/Saint Kitts and Nevis",
          "North America/Saint Lucia",
          "North America/Saint Pierre and Miquelon",
          "North America/Saint Vincent and the Grenadines",
          "Oceania/Samoa",
          "Africa/Sao Tome and Principe",
          "Asia/Saudi Arabia",
          "Africa/Senegal",
          "Europe/Serbia",
          "Africa/Seychelles",
          "Africa/Sierra Leone",
          "Asia/Singapore",
          "North America/Sint Maarten (Dutch part)",
          "Europe/Slovakia",
          "Europe/Slovenia",
          "Oceania/Solomon Islands",
          "Africa/Somalia",
          "Africa/South Africa",
          "Asia/South Korea",
          "Africa/South Sudan",
          "Europe/Spain",
          "Asia/Sri Lanka",
          "Africa/Sudan",
          "South America/Suriname",
          "Africa/Swaziland",
          "Europe/Sweden",
          "Europe/Switzerland",
          "Asia/Syria",
          "Asia/Taiwan",
          "Asia/Tajikistan",
          "Africa/Tanzania",
          "Asia/Thailand",
          "Asia/Timor",
          "Africa/Togo",
          "Oceania/Tonga",
          "North America/Trinidad and Tobago",
          "Africa/Tunisia",
          "Asia/Turkey",
          "Asia/Turkmenistan",
          "North America/Turks and Caicos Islands",
          "Oceania/Tuvalu",
          "Africa/Uganda",
          "Europe/Ukraine",
          "Asia/United Arab Emirates",
          "Europe/United Kingdom",
          "North America/United States",
          "South America/Uruguay",
          "Asia/Uzbekistan",
          "Oceania/Vanuatu",
          "South America/Venezuela",
          "Asia/Vietnam",
          "Oceania/Wallis and Futuna Islands",
          "Asia/Yemen",
          "Africa/Zambia",
          "Africa/Zimbabwe",
          "Africa",
          "Asia",
          "Europe",
          "North America",
          "Oceania",
          "South America"
         ],
         "labels": [
          "Afghanistan",
          "Albania",
          "Algeria",
          "Andorra",
          "Angola",
          "Anguilla",
          "Antigua and Barbuda",
          "Argentina",
          "Armenia",
          "Aruba",
          "Australia",
          "Austria",
          "Azerbaijan",
          "Bahamas",
          "Bahrain",
          "Bangladesh",
          "Barbados",
          "Belarus",
          "Belgium",
          "Belize",
          "Benin",
          "Bermuda",
          "Bhutan",
          "Bolivia",
          "Bonaire Sint Eustatius and Saba",
          "Bosnia and Herzegovina",
          "Botswana",
          "Brazil",
          "British Virgin Islands",
          "Brunei",
          "Bulgaria",
          "Burkina Faso",
          "Burundi",
          "Cambodia",
          "Cameroon",
          "Canada",
          "Cape Verde",
          "Central African Republic",
          "Chad",
          "Chile",
          "China",
          "Colombia",
          "Comoros",
          "Congo",
          "Cook Islands",
          "Costa Rica",
          "Cote d'Ivoire",
          "Croatia",
          "Cuba",
          "Curacao",
          "Cyprus",
          "Czech Republic",
          "Democratic Republic of Congo",
          "Denmark",
          "Djibouti",
          "Dominica",
          "Dominican Republic",
          "Ecuador",
          "Egypt",
          "El Salvador",
          "Equatorial Guinea",
          "Eritrea",
          "Estonia",
          "Ethiopia",
          "Faeroe Islands",
          "Fiji",
          "Finland",
          "France",
          "French Polynesia",
          "Gabon",
          "Gambia",
          "Georgia",
          "Germany",
          "Ghana",
          "Greece",
          "Greenland",
          "Grenada",
          "Guatemala",
          "Guinea",
          "Guinea-Bissau",
          "Guyana",
          "Haiti",
          "Honduras",
          "Hong Kong",
          "Hungary",
          "Iceland",
          "India",
          "Indonesia",
          "Iran",
          "Iraq",
          "Ireland",
          "Israel",
          "Italy",
          "Jamaica",
          "Japan",
          "Jordan",
          "Kazakhstan",
          "Kenya",
          "Kiribati",
          "Kuwait",
          "Kyrgyzstan",
          "Laos",
          "Latvia",
          "Lebanon",
          "Lesotho",
          "Liberia",
          "Libya",
          "Liechtenstein",
          "Lithuania",
          "Luxembourg",
          "Macedonia",
          "Madagascar",
          "Malawi",
          "Malaysia",
          "Maldives",
          "Mali",
          "Malta",
          "Marshall Islands",
          "Mauritania",
          "Mauritius",
          "Mexico",
          "Moldova",
          "Mongolia",
          "Montenegro",
          "Montserrat",
          "Morocco",
          "Mozambique",
          "Myanmar",
          "Namibia",
          "Nauru",
          "Nepal",
          "Netherlands",
          "New Caledonia",
          "New Zealand",
          "Nicaragua",
          "Niger",
          "Nigeria",
          "Niue",
          "North Korea",
          "Norway",
          "Oman",
          "Pakistan",
          "Palau",
          "Palestine",
          "Panama",
          "Papua New Guinea",
          "Paraguay",
          "Peru",
          "Philippines",
          "Poland",
          "Portugal",
          "Qatar",
          "Romania",
          "Russia",
          "Rwanda",
          "Saint Helena",
          "Saint Kitts and Nevis",
          "Saint Lucia",
          "Saint Pierre and Miquelon",
          "Saint Vincent and the Grenadines",
          "Samoa",
          "Sao Tome and Principe",
          "Saudi Arabia",
          "Senegal",
          "Serbia",
          "Seychelles",
          "Sierra Leone",
          "Singapore",
          "Sint Maarten (Dutch part)",
          "Slovakia",
          "Slovenia",
          "Solomon Islands",
          "Somalia",
          "South Africa",
          "South Korea",
          "South Sudan",
          "Spain",
          "Sri Lanka",
          "Sudan",
          "Suriname",
          "Swaziland",
          "Sweden",
          "Switzerland",
          "Syria",
          "Taiwan",
          "Tajikistan",
          "Tanzania",
          "Thailand",
          "Timor",
          "Togo",
          "Tonga",
          "Trinidad and Tobago",
          "Tunisia",
          "Turkey",
          "Turkmenistan",
          "Turks and Caicos Islands",
          "Tuvalu",
          "Uganda",
          "Ukraine",
          "United Arab Emirates",
          "United Kingdom",
          "United States",
          "Uruguay",
          "Uzbekistan",
          "Vanuatu",
          "Venezuela",
          "Vietnam",
          "Wallis and Futuna Islands",
          "Yemen",
          "Zambia",
          "Zimbabwe",
          "Africa",
          "Asia",
          "Europe",
          "North America",
          "Oceania",
          "South America"
         ],
         "marker": {
          "coloraxis": "coloraxis",
          "colors": [
           9.439,
           4.57,
           155.725,
           0.47100000000000003,
           34.537,
           0.156,
           0.5660000000000001,
           195.53099999999998,
           5.571000000000001,
           0.897,
           420.221,
           68.87,
           36.788000000000004,
           1.8130000000000002,
           31.059,
           85.693,
           1.2830000000000001,
           65.456,
           99.665,
           0.574,
           7.149,
           0.622,
           1.214,
           22.261999999999997,
           0.335,
           21.671999999999997,
           6.666,
           457.19,
           0.21600000000000003,
           7.93,
           44.511,
           3.8989999999999996,
           0.522,
           10.395999999999999,
           8.137,
           568.4119999999999,
           0.628,
           0.304,
           1.014,
           85.87700000000001,
           10064.686,
           97.26899999999999,
           0.218,
           3.2310000000000003,
           0.066,
           8.059,
           8.391,
           18.6,
           28.616999999999997,
           5.482,
           7.4910000000000005,
           105.945,
           2.037,
           34.81,
           0.644,
           0.182,
           24.857,
           41.915,
           238.81599999999997,
           7.13,
           5.687000000000001,
           0.74,
           19.559,
           14.935,
           0.633,
           2.125,
           46.989000000000004,
           337.913,
           0.8119999999999999,
           5.358,
           0.611,
           10.56,
           759.0019999999998,
           18.298,
           73.887,
           0.511,
           0.271,
           18.365,
           3.179,
           0.34,
           2.431,
           2.998999999999999,
           9.915,
           43.144,
           49.857,
           3.6310000000000002,
           2654.1009999999997,
           614.9159999999999,
           720.414,
           204.17500000000004,
           38.931,
           64.264,
           338.027,
           8.191,
           1161.981,
           24.086,
           321.78700000000003,
           18.486,
           0.07,
           98.06200000000001,
           10.081,
           19.32,
           7.190999999999999,
           24.226999999999997,
           2.659,
           1.558,
           54.01600000000001,
           0.153,
           13.554,
           9.582,
           7.268,
           4.281000000000001,
           1.381,
           254.52700000000002,
           1.5230000000000004,
           3.56,
           1.5830000000000002,
           0.151,
           2.661,
           4.855,
           477.32199999999995,
           5.127000000000001,
           28.113000000000003,
           2.008,
           0.03,
           66.31,
           8.286,
           26.335,
           4.272,
           0.05000000000000001,
           9.448,
           161.624,
           5.757000000000001,
           34.766,
           5.571000000000001,
           2.319,
           127.294,
           0.008,
           30.219,
           44.326,
           67.291,
           223.54,
           0.23600000000000002,
           3.21,
           10.937999999999999,
           7.837999999999999,
           7.431,
           55.531,
           135.069,
           343.538,
           50.925,
           105.62299999999998,
           74.061,
           1710.6879999999999,
           1.122,
           0.011000000000000001,
           0.242,
           0.42100000000000004,
           0.078,
           0.223,
           0.259,
           0.124,
           621.302,
           11.710999999999997,
           45.444,
           0.655,
           1.078,
           40.861999999999995,
           0.774,
           36.028,
           14.432,
           0.178,
           0.6990000000000001,
           467.56199999999995,
           658.788,
           1.87,
           268.23400000000004,
           23.368,
           21.046,
           1.787,
           1.199,
           41.027,
           36.873000000000005,
           28.276999999999997,
           274.643,
           5.485,
           12.499,
           288.22900000000004,
           0.522,
           3.418,
           0.135,
           43.477,
           31.576999999999998,
           428.18,
           79.89399999999999,
           0.22,
           0.012,
           5.771,
           225.018,
           205.602,
           379.04,
           5416.278,
           6.944,
           91.26500000000001,
           0.155,
           138.765,
           206.66099999999997,
           0.027000000000000003,
           10.141,
           5.228,
           12.263,
           234.12762356719588,
           5282.3961795164705,
           327.7601106977245,
           4498.2720708555435,
           376.2045654878971,
           259.4905610966698
          ]
         },
         "name": "",
         "parents": [
          "Asia",
          "Europe",
          "Africa",
          "Europe",
          "Africa",
          "North America",
          "North America",
          "South America",
          "Asia",
          "North America",
          "Oceania",
          "Europe",
          "Asia",
          "North America",
          "Asia",
          "Asia",
          "North America",
          "Europe",
          "Europe",
          "North America",
          "Africa",
          "North America",
          "Asia",
          "South America",
          "North America",
          "Europe",
          "Africa",
          "South America",
          "North America",
          "Asia",
          "Europe",
          "Africa",
          "Africa",
          "Asia",
          "Africa",
          "North America",
          "Africa",
          "Africa",
          "Africa",
          "South America",
          "Asia",
          "South America",
          "Africa",
          "Africa",
          "Oceania",
          "North America",
          "Africa",
          "Europe",
          "North America",
          "North America",
          "Asia",
          "Europe",
          "Africa",
          "Europe",
          "Africa",
          "North America",
          "North America",
          "South America",
          "Africa",
          "North America",
          "Africa",
          "Africa",
          "Europe",
          "Africa",
          "Europe",
          "Oceania",
          "Europe",
          "Europe",
          "Oceania",
          "Africa",
          "Africa",
          "Asia",
          "Europe",
          "Africa",
          "Europe",
          "North America",
          "North America",
          "North America",
          "Africa",
          "Africa",
          "South America",
          "North America",
          "North America",
          "Asia",
          "Europe",
          "Europe",
          "Asia",
          "Asia",
          "Asia",
          "Asia",
          "Europe",
          "Asia",
          "Europe",
          "North America",
          "Asia",
          "Asia",
          "Asia",
          "Africa",
          "Oceania",
          "Asia",
          "Asia",
          "Asia",
          "Europe",
          "Asia",
          "Africa",
          "Africa",
          "Africa",
          "Europe",
          "Europe",
          "Europe",
          "Europe",
          "Africa",
          "Africa",
          "Asia",
          "Asia",
          "Africa",
          "Europe",
          "Oceania",
          "Africa",
          "Africa",
          "North America",
          "Europe",
          "Asia",
          "Europe",
          "North America",
          "Africa",
          "Africa",
          "Asia",
          "Africa",
          "Oceania",
          "Asia",
          "Europe",
          "Oceania",
          "Oceania",
          "North America",
          "Africa",
          "Africa",
          "Oceania",
          "Asia",
          "Europe",
          "Asia",
          "Asia",
          "Oceania",
          "Asia",
          "North America",
          "Oceania",
          "South America",
          "South America",
          "Asia",
          "Europe",
          "Europe",
          "Asia",
          "Europe",
          "Asia",
          "Africa",
          "Africa",
          "North America",
          "North America",
          "North America",
          "North America",
          "Oceania",
          "Africa",
          "Asia",
          "Africa",
          "Europe",
          "Africa",
          "Africa",
          "Asia",
          "North America",
          "Europe",
          "Europe",
          "Oceania",
          "Africa",
          "Africa",
          "Asia",
          "Africa",
          "Europe",
          "Asia",
          "Africa",
          "South America",
          "Africa",
          "Europe",
          "Europe",
          "Asia",
          "Asia",
          "Asia",
          "Africa",
          "Asia",
          "Asia",
          "Africa",
          "Oceania",
          "North America",
          "Africa",
          "Asia",
          "Asia",
          "North America",
          "Oceania",
          "Africa",
          "Europe",
          "Asia",
          "Europe",
          "North America",
          "South America",
          "Asia",
          "Oceania",
          "South America",
          "Asia",
          "Oceania",
          "Asia",
          "Africa",
          "Africa",
          "",
          "",
          "",
          "",
          "",
          ""
         ],
         "type": "sunburst",
         "values": [
          9.439,
          4.57,
          155.725,
          0.47100000000000003,
          34.537,
          0.156,
          0.5660000000000001,
          195.53099999999998,
          5.571000000000001,
          0.897,
          420.221,
          68.87,
          36.788000000000004,
          1.8130000000000002,
          31.059,
          85.693,
          1.2830000000000001,
          65.456,
          99.665,
          0.574,
          7.149,
          0.622,
          1.214,
          22.261999999999997,
          0.335,
          21.671999999999997,
          6.666,
          457.19,
          0.21600000000000003,
          7.93,
          44.511,
          3.8989999999999996,
          0.522,
          10.395999999999999,
          8.137,
          568.4119999999999,
          0.628,
          0.304,
          1.014,
          85.87700000000001,
          10064.686,
          97.26899999999999,
          0.218,
          3.2310000000000003,
          0.066,
          8.059,
          8.391,
          18.6,
          28.616999999999997,
          5.482,
          7.4910000000000005,
          105.945,
          2.037,
          34.81,
          0.644,
          0.182,
          24.857,
          41.915,
          238.81599999999997,
          7.13,
          5.687,
          0.74,
          19.559,
          14.935,
          0.633,
          2.125,
          46.989,
          337.913,
          0.812,
          5.358,
          0.611,
          10.56,
          759.002,
          18.298,
          73.887,
          0.511,
          0.271,
          18.365,
          3.179,
          0.34,
          2.431,
          2.9989999999999997,
          9.915,
          43.144,
          49.857,
          3.6310000000000002,
          2654.1009999999997,
          614.9159999999999,
          720.414,
          204.175,
          38.931,
          64.264,
          338.027,
          8.191,
          1161.981,
          24.086,
          321.78700000000003,
          18.486,
          0.07,
          98.06200000000001,
          10.081,
          19.32,
          7.191,
          24.226999999999997,
          2.659,
          1.558,
          54.016000000000005,
          0.153,
          13.554,
          9.582,
          7.268,
          4.281000000000001,
          1.381,
          254.52700000000002,
          1.5230000000000001,
          3.56,
          1.5830000000000002,
          0.151,
          2.661,
          4.855,
          477.32199999999995,
          5.127000000000001,
          28.113000000000003,
          2.008,
          0.03,
          66.31,
          8.286,
          26.335,
          4.272,
          0.05,
          9.448,
          161.624,
          5.757000000000001,
          34.766,
          5.571000000000001,
          2.319,
          127.294,
          0.008,
          30.219,
          44.326,
          67.291,
          223.54,
          0.23600000000000002,
          3.21,
          10.937999999999999,
          7.837999999999999,
          7.431,
          55.531000000000006,
          135.069,
          343.538,
          50.925,
          105.62299999999999,
          74.061,
          1710.6879999999999,
          1.122,
          0.011000000000000001,
          0.242,
          0.42100000000000004,
          0.078,
          0.223,
          0.259,
          0.124,
          621.302,
          11.710999999999999,
          45.443999999999996,
          0.655,
          1.078,
          40.861999999999995,
          0.774,
          36.028,
          14.432,
          0.17800000000000002,
          0.6990000000000001,
          467.56199999999995,
          658.788,
          1.87,
          268.23400000000004,
          23.368000000000002,
          21.046,
          1.787,
          1.199,
          41.027,
          36.873000000000005,
          28.276999999999997,
          274.643,
          5.485,
          12.499,
          288.22900000000004,
          0.522,
          3.418,
          0.135,
          43.477,
          31.576999999999998,
          428.18,
          79.89399999999999,
          0.22,
          0.012,
          5.771,
          225.018,
          205.602,
          379.04,
          5416.278,
          6.944,
          91.265,
          0.155,
          138.765,
          206.66099999999997,
          0.027000000000000003,
          10.141,
          5.228,
          12.263,
          1400.8369999999993,
          21790.189999999995,
          3900.0349999999994,
          6645.027,
          472.866,
          1112.933
         ]
        }
       ],
       "layout": {
        "coloraxis": {
         "colorbar": {
          "title": {
           "text": "Annual CO<sub>2</sub>"
          }
         },
         "colorscale": [
          [
           0,
           "#0d0887"
          ],
          [
           0.1111111111111111,
           "#46039f"
          ],
          [
           0.2222222222222222,
           "#7201a8"
          ],
          [
           0.3333333333333333,
           "#9c179e"
          ],
          [
           0.4444444444444444,
           "#bd3786"
          ],
          [
           0.5555555555555556,
           "#d8576b"
          ],
          [
           0.6666666666666666,
           "#ed7953"
          ],
          [
           0.7777777777777778,
           "#fb9f3a"
          ],
          [
           0.8888888888888888,
           "#fdca26"
          ],
          [
           1,
           "#f0f921"
          ]
         ]
        },
        "legend": {
         "tracegroupgap": 0
        },
        "margin": {
         "t": 60
        },
        "template": {
         "data": {
          "bar": [
           {
            "error_x": {
             "color": "#2a3f5f"
            },
            "error_y": {
             "color": "#2a3f5f"
            },
            "marker": {
             "line": {
              "color": "#E5ECF6",
              "width": 0.5
             }
            },
            "type": "bar"
           }
          ],
          "barpolar": [
           {
            "marker": {
             "line": {
              "color": "#E5ECF6",
              "width": 0.5
             }
            },
            "type": "barpolar"
           }
          ],
          "carpet": [
           {
            "aaxis": {
             "endlinecolor": "#2a3f5f",
             "gridcolor": "white",
             "linecolor": "white",
             "minorgridcolor": "white",
             "startlinecolor": "#2a3f5f"
            },
            "baxis": {
             "endlinecolor": "#2a3f5f",
             "gridcolor": "white",
             "linecolor": "white",
             "minorgridcolor": "white",
             "startlinecolor": "#2a3f5f"
            },
            "type": "carpet"
           }
          ],
          "choropleth": [
           {
            "colorbar": {
             "outlinewidth": 0,
             "ticks": ""
            },
            "type": "choropleth"
           }
          ],
          "contour": [
           {
            "colorbar": {
             "outlinewidth": 0,
             "ticks": ""
            },
            "colorscale": [
             [
              0,
              "#0d0887"
             ],
             [
              0.1111111111111111,
              "#46039f"
             ],
             [
              0.2222222222222222,
              "#7201a8"
             ],
             [
              0.3333333333333333,
              "#9c179e"
             ],
             [
              0.4444444444444444,
              "#bd3786"
             ],
             [
              0.5555555555555556,
              "#d8576b"
             ],
             [
              0.6666666666666666,
              "#ed7953"
             ],
             [
              0.7777777777777778,
              "#fb9f3a"
             ],
             [
              0.8888888888888888,
              "#fdca26"
             ],
             [
              1,
              "#f0f921"
             ]
            ],
            "type": "contour"
           }
          ],
          "contourcarpet": [
           {
            "colorbar": {
             "outlinewidth": 0,
             "ticks": ""
            },
            "type": "contourcarpet"
           }
          ],
          "heatmap": [
           {
            "colorbar": {
             "outlinewidth": 0,
             "ticks": ""
            },
            "colorscale": [
             [
              0,
              "#0d0887"
             ],
             [
              0.1111111111111111,
              "#46039f"
             ],
             [
              0.2222222222222222,
              "#7201a8"
             ],
             [
              0.3333333333333333,
              "#9c179e"
             ],
             [
              0.4444444444444444,
              "#bd3786"
             ],
             [
              0.5555555555555556,
              "#d8576b"
             ],
             [
              0.6666666666666666,
              "#ed7953"
             ],
             [
              0.7777777777777778,
              "#fb9f3a"
             ],
             [
              0.8888888888888888,
              "#fdca26"
             ],
             [
              1,
              "#f0f921"
             ]
            ],
            "type": "heatmap"
           }
          ],
          "heatmapgl": [
           {
            "colorbar": {
             "outlinewidth": 0,
             "ticks": ""
            },
            "colorscale": [
             [
              0,
              "#0d0887"
             ],
             [
              0.1111111111111111,
              "#46039f"
             ],
             [
              0.2222222222222222,
              "#7201a8"
             ],
             [
              0.3333333333333333,
              "#9c179e"
             ],
             [
              0.4444444444444444,
              "#bd3786"
             ],
             [
              0.5555555555555556,
              "#d8576b"
             ],
             [
              0.6666666666666666,
              "#ed7953"
             ],
             [
              0.7777777777777778,
              "#fb9f3a"
             ],
             [
              0.8888888888888888,
              "#fdca26"
             ],
             [
              1,
              "#f0f921"
             ]
            ],
            "type": "heatmapgl"
           }
          ],
          "histogram": [
           {
            "marker": {
             "colorbar": {
              "outlinewidth": 0,
              "ticks": ""
             }
            },
            "type": "histogram"
           }
          ],
          "histogram2d": [
           {
            "colorbar": {
             "outlinewidth": 0,
             "ticks": ""
            },
            "colorscale": [
             [
              0,
              "#0d0887"
             ],
             [
              0.1111111111111111,
              "#46039f"
             ],
             [
              0.2222222222222222,
              "#7201a8"
             ],
             [
              0.3333333333333333,
              "#9c179e"
             ],
             [
              0.4444444444444444,
              "#bd3786"
             ],
             [
              0.5555555555555556,
              "#d8576b"
             ],
             [
              0.6666666666666666,
              "#ed7953"
             ],
             [
              0.7777777777777778,
              "#fb9f3a"
             ],
             [
              0.8888888888888888,
              "#fdca26"
             ],
             [
              1,
              "#f0f921"
             ]
            ],
            "type": "histogram2d"
           }
          ],
          "histogram2dcontour": [
           {
            "colorbar": {
             "outlinewidth": 0,
             "ticks": ""
            },
            "colorscale": [
             [
              0,
              "#0d0887"
             ],
             [
              0.1111111111111111,
              "#46039f"
             ],
             [
              0.2222222222222222,
              "#7201a8"
             ],
             [
              0.3333333333333333,
              "#9c179e"
             ],
             [
              0.4444444444444444,
              "#bd3786"
             ],
             [
              0.5555555555555556,
              "#d8576b"
             ],
             [
              0.6666666666666666,
              "#ed7953"
             ],
             [
              0.7777777777777778,
              "#fb9f3a"
             ],
             [
              0.8888888888888888,
              "#fdca26"
             ],
             [
              1,
              "#f0f921"
             ]
            ],
            "type": "histogram2dcontour"
           }
          ],
          "mesh3d": [
           {
            "colorbar": {
             "outlinewidth": 0,
             "ticks": ""
            },
            "type": "mesh3d"
           }
          ],
          "parcoords": [
           {
            "line": {
             "colorbar": {
              "outlinewidth": 0,
              "ticks": ""
             }
            },
            "type": "parcoords"
           }
          ],
          "pie": [
           {
            "automargin": true,
            "type": "pie"
           }
          ],
          "scatter": [
           {
            "marker": {
             "colorbar": {
              "outlinewidth": 0,
              "ticks": ""
             }
            },
            "type": "scatter"
           }
          ],
          "scatter3d": [
           {
            "line": {
             "colorbar": {
              "outlinewidth": 0,
              "ticks": ""
             }
            },
            "marker": {
             "colorbar": {
              "outlinewidth": 0,
              "ticks": ""
             }
            },
            "type": "scatter3d"
           }
          ],
          "scattercarpet": [
           {
            "marker": {
             "colorbar": {
              "outlinewidth": 0,
              "ticks": ""
             }
            },
            "type": "scattercarpet"
           }
          ],
          "scattergeo": [
           {
            "marker": {
             "colorbar": {
              "outlinewidth": 0,
              "ticks": ""
             }
            },
            "type": "scattergeo"
           }
          ],
          "scattergl": [
           {
            "marker": {
             "colorbar": {
              "outlinewidth": 0,
              "ticks": ""
             }
            },
            "type": "scattergl"
           }
          ],
          "scattermapbox": [
           {
            "marker": {
             "colorbar": {
              "outlinewidth": 0,
              "ticks": ""
             }
            },
            "type": "scattermapbox"
           }
          ],
          "scatterpolar": [
           {
            "marker": {
             "colorbar": {
              "outlinewidth": 0,
              "ticks": ""
             }
            },
            "type": "scatterpolar"
           }
          ],
          "scatterpolargl": [
           {
            "marker": {
             "colorbar": {
              "outlinewidth": 0,
              "ticks": ""
             }
            },
            "type": "scatterpolargl"
           }
          ],
          "scatterternary": [
           {
            "marker": {
             "colorbar": {
              "outlinewidth": 0,
              "ticks": ""
             }
            },
            "type": "scatterternary"
           }
          ],
          "surface": [
           {
            "colorbar": {
             "outlinewidth": 0,
             "ticks": ""
            },
            "colorscale": [
             [
              0,
              "#0d0887"
             ],
             [
              0.1111111111111111,
              "#46039f"
             ],
             [
              0.2222222222222222,
              "#7201a8"
             ],
             [
              0.3333333333333333,
              "#9c179e"
             ],
             [
              0.4444444444444444,
              "#bd3786"
             ],
             [
              0.5555555555555556,
              "#d8576b"
             ],
             [
              0.6666666666666666,
              "#ed7953"
             ],
             [
              0.7777777777777778,
              "#fb9f3a"
             ],
             [
              0.8888888888888888,
              "#fdca26"
             ],
             [
              1,
              "#f0f921"
             ]
            ],
            "type": "surface"
           }
          ],
          "table": [
           {
            "cells": {
             "fill": {
              "color": "#EBF0F8"
             },
             "line": {
              "color": "white"
             }
            },
            "header": {
             "fill": {
              "color": "#C8D4E3"
             },
             "line": {
              "color": "white"
             }
            },
            "type": "table"
           }
          ]
         },
         "layout": {
          "annotationdefaults": {
           "arrowcolor": "#2a3f5f",
           "arrowhead": 0,
           "arrowwidth": 1
          },
          "coloraxis": {
           "colorbar": {
            "outlinewidth": 0,
            "ticks": ""
           }
          },
          "colorscale": {
           "diverging": [
            [
             0,
             "#8e0152"
            ],
            [
             0.1,
             "#c51b7d"
            ],
            [
             0.2,
             "#de77ae"
            ],
            [
             0.3,
             "#f1b6da"
            ],
            [
             0.4,
             "#fde0ef"
            ],
            [
             0.5,
             "#f7f7f7"
            ],
            [
             0.6,
             "#e6f5d0"
            ],
            [
             0.7,
             "#b8e186"
            ],
            [
             0.8,
             "#7fbc41"
            ],
            [
             0.9,
             "#4d9221"
            ],
            [
             1,
             "#276419"
            ]
           ],
           "sequential": [
            [
             0,
             "#0d0887"
            ],
            [
             0.1111111111111111,
             "#46039f"
            ],
            [
             0.2222222222222222,
             "#7201a8"
            ],
            [
             0.3333333333333333,
             "#9c179e"
            ],
            [
             0.4444444444444444,
             "#bd3786"
            ],
            [
             0.5555555555555556,
             "#d8576b"
            ],
            [
             0.6666666666666666,
             "#ed7953"
            ],
            [
             0.7777777777777778,
             "#fb9f3a"
            ],
            [
             0.8888888888888888,
             "#fdca26"
            ],
            [
             1,
             "#f0f921"
            ]
           ],
           "sequentialminus": [
            [
             0,
             "#0d0887"
            ],
            [
             0.1111111111111111,
             "#46039f"
            ],
            [
             0.2222222222222222,
             "#7201a8"
            ],
            [
             0.3333333333333333,
             "#9c179e"
            ],
            [
             0.4444444444444444,
             "#bd3786"
            ],
            [
             0.5555555555555556,
             "#d8576b"
            ],
            [
             0.6666666666666666,
             "#ed7953"
            ],
            [
             0.7777777777777778,
             "#fb9f3a"
            ],
            [
             0.8888888888888888,
             "#fdca26"
            ],
            [
             1,
             "#f0f921"
            ]
           ]
          },
          "colorway": [
           "#636efa",
           "#EF553B",
           "#00cc96",
           "#ab63fa",
           "#FFA15A",
           "#19d3f3",
           "#FF6692",
           "#B6E880",
           "#FF97FF",
           "#FECB52"
          ],
          "font": {
           "color": "#2a3f5f"
          },
          "geo": {
           "bgcolor": "white",
           "lakecolor": "white",
           "landcolor": "#E5ECF6",
           "showlakes": true,
           "showland": true,
           "subunitcolor": "white"
          },
          "hoverlabel": {
           "align": "left"
          },
          "hovermode": "closest",
          "mapbox": {
           "style": "light"
          },
          "paper_bgcolor": "white",
          "plot_bgcolor": "#E5ECF6",
          "polar": {
           "angularaxis": {
            "gridcolor": "white",
            "linecolor": "white",
            "ticks": ""
           },
           "bgcolor": "#E5ECF6",
           "radialaxis": {
            "gridcolor": "white",
            "linecolor": "white",
            "ticks": ""
           }
          },
          "scene": {
           "xaxis": {
            "backgroundcolor": "#E5ECF6",
            "gridcolor": "white",
            "gridwidth": 2,
            "linecolor": "white",
            "showbackground": true,
            "ticks": "",
            "zerolinecolor": "white"
           },
           "yaxis": {
            "backgroundcolor": "#E5ECF6",
            "gridcolor": "white",
            "gridwidth": 2,
            "linecolor": "white",
            "showbackground": true,
            "ticks": "",
            "zerolinecolor": "white"
           },
           "zaxis": {
            "backgroundcolor": "#E5ECF6",
            "gridcolor": "white",
            "gridwidth": 2,
            "linecolor": "white",
            "showbackground": true,
            "ticks": "",
            "zerolinecolor": "white"
           }
          },
          "shapedefaults": {
           "line": {
            "color": "#2a3f5f"
           }
          },
          "ternary": {
           "aaxis": {
            "gridcolor": "white",
            "linecolor": "white",
            "ticks": ""
           },
           "baxis": {
            "gridcolor": "white",
            "linecolor": "white",
            "ticks": ""
           },
           "bgcolor": "#E5ECF6",
           "caxis": {
            "gridcolor": "white",
            "linecolor": "white",
            "ticks": ""
           }
          },
          "title": {
           "x": 0.05
          },
          "xaxis": {
           "automargin": true,
           "gridcolor": "white",
           "linecolor": "white",
           "ticks": "",
           "title": {
            "standoff": 15
           },
           "zerolinecolor": "white",
           "zerolinewidth": 2
          },
          "yaxis": {
           "automargin": true,
           "gridcolor": "white",
           "linecolor": "white",
           "ticks": "",
           "title": {
            "standoff": 15
           },
           "zerolinecolor": "white",
           "zerolinewidth": 2
          }
         }
        },
        "title": {
         "text": "The amount of CO<sub>2</sub> Emission of Each Country in 2018"
        }
       }
      }
     },
     "metadata": {}
    }
   ],
   "source": [
    "from read_co2 import fig_sunburst_co2_country\n",
    "curr_year = 2018\n",
    "fig = fig_sunburst_co2_country(curr_year)\n",
    "fig.show()"
   ]
  },
  {
   "cell_type": "code",
   "execution_count": null,
   "metadata": {},
   "outputs": [],
   "source": []
  }
 ],
 "metadata": {
  "kernelspec": {
   "display_name": "Python 3",
   "language": "python",
   "name": "python3"
  },
  "language_info": {
   "codemirror_mode": {
    "name": "ipython",
    "version": 3
   },
   "file_extension": ".py",
   "mimetype": "text/x-python",
   "name": "python",
   "nbconvert_exporter": "python",
   "pygments_lexer": "ipython3",
   "version": "3.8.3-final"
  }
 },
 "nbformat": 4,
 "nbformat_minor": 4
}